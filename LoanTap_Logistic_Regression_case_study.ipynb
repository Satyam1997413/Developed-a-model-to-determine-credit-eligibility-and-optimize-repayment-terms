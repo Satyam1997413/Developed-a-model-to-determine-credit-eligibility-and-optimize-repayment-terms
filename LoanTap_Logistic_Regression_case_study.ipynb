{
 "cells": [
  {
   "cell_type": "markdown",
   "id": "d3f77a99",
   "metadata": {},
   "source": [
    "# Importing Liabrares and Reading Dataset"
   ]
  },
  {
   "cell_type": "code",
   "execution_count": 10,
   "id": "850e6f09",
   "metadata": {},
   "outputs": [],
   "source": [
    "import numpy as np\n",
    "import pandas as pd\n",
    "import matplotlib.pyplot as plt\n",
    "import seaborn as sns"
   ]
  },
  {
   "cell_type": "code",
   "execution_count": 11,
   "id": "547102f0",
   "metadata": {},
   "outputs": [],
   "source": [
    "LoanTap = pd.read_csv(\"C:/Users/Satyam/Downloads/logistic_regression (1).csv\")"
   ]
  },
  {
   "cell_type": "code",
   "execution_count": 12,
   "id": "5d4874f1",
   "metadata": {},
   "outputs": [
    {
     "data": {
      "text/html": [
       "<div>\n",
       "<style scoped>\n",
       "    .dataframe tbody tr th:only-of-type {\n",
       "        vertical-align: middle;\n",
       "    }\n",
       "\n",
       "    .dataframe tbody tr th {\n",
       "        vertical-align: top;\n",
       "    }\n",
       "\n",
       "    .dataframe thead th {\n",
       "        text-align: right;\n",
       "    }\n",
       "</style>\n",
       "<table border=\"1\" class=\"dataframe\">\n",
       "  <thead>\n",
       "    <tr style=\"text-align: right;\">\n",
       "      <th></th>\n",
       "      <th>loan_amnt</th>\n",
       "      <th>term</th>\n",
       "      <th>int_rate</th>\n",
       "      <th>installment</th>\n",
       "      <th>grade</th>\n",
       "      <th>sub_grade</th>\n",
       "      <th>emp_title</th>\n",
       "      <th>emp_length</th>\n",
       "      <th>home_ownership</th>\n",
       "      <th>annual_inc</th>\n",
       "      <th>...</th>\n",
       "      <th>open_acc</th>\n",
       "      <th>pub_rec</th>\n",
       "      <th>revol_bal</th>\n",
       "      <th>revol_util</th>\n",
       "      <th>total_acc</th>\n",
       "      <th>initial_list_status</th>\n",
       "      <th>application_type</th>\n",
       "      <th>mort_acc</th>\n",
       "      <th>pub_rec_bankruptcies</th>\n",
       "      <th>address</th>\n",
       "    </tr>\n",
       "  </thead>\n",
       "  <tbody>\n",
       "    <tr>\n",
       "      <th>0</th>\n",
       "      <td>10000.0</td>\n",
       "      <td>36 months</td>\n",
       "      <td>11.44</td>\n",
       "      <td>329.48</td>\n",
       "      <td>B</td>\n",
       "      <td>B4</td>\n",
       "      <td>Marketing</td>\n",
       "      <td>10+ years</td>\n",
       "      <td>RENT</td>\n",
       "      <td>117000.0</td>\n",
       "      <td>...</td>\n",
       "      <td>16.0</td>\n",
       "      <td>0.0</td>\n",
       "      <td>36369.0</td>\n",
       "      <td>41.8</td>\n",
       "      <td>25.0</td>\n",
       "      <td>w</td>\n",
       "      <td>INDIVIDUAL</td>\n",
       "      <td>0.0</td>\n",
       "      <td>0.0</td>\n",
       "      <td>0174 Michelle Gateway\\r\\nMendozaberg, OK 22690</td>\n",
       "    </tr>\n",
       "    <tr>\n",
       "      <th>1</th>\n",
       "      <td>8000.0</td>\n",
       "      <td>36 months</td>\n",
       "      <td>11.99</td>\n",
       "      <td>265.68</td>\n",
       "      <td>B</td>\n",
       "      <td>B5</td>\n",
       "      <td>Credit analyst</td>\n",
       "      <td>4 years</td>\n",
       "      <td>MORTGAGE</td>\n",
       "      <td>65000.0</td>\n",
       "      <td>...</td>\n",
       "      <td>17.0</td>\n",
       "      <td>0.0</td>\n",
       "      <td>20131.0</td>\n",
       "      <td>53.3</td>\n",
       "      <td>27.0</td>\n",
       "      <td>f</td>\n",
       "      <td>INDIVIDUAL</td>\n",
       "      <td>3.0</td>\n",
       "      <td>0.0</td>\n",
       "      <td>1076 Carney Fort Apt. 347\\r\\nLoganmouth, SD 05113</td>\n",
       "    </tr>\n",
       "    <tr>\n",
       "      <th>2</th>\n",
       "      <td>15600.0</td>\n",
       "      <td>36 months</td>\n",
       "      <td>10.49</td>\n",
       "      <td>506.97</td>\n",
       "      <td>B</td>\n",
       "      <td>B3</td>\n",
       "      <td>Statistician</td>\n",
       "      <td>&lt; 1 year</td>\n",
       "      <td>RENT</td>\n",
       "      <td>43057.0</td>\n",
       "      <td>...</td>\n",
       "      <td>13.0</td>\n",
       "      <td>0.0</td>\n",
       "      <td>11987.0</td>\n",
       "      <td>92.2</td>\n",
       "      <td>26.0</td>\n",
       "      <td>f</td>\n",
       "      <td>INDIVIDUAL</td>\n",
       "      <td>0.0</td>\n",
       "      <td>0.0</td>\n",
       "      <td>87025 Mark Dale Apt. 269\\r\\nNew Sabrina, WV 05113</td>\n",
       "    </tr>\n",
       "    <tr>\n",
       "      <th>3</th>\n",
       "      <td>7200.0</td>\n",
       "      <td>36 months</td>\n",
       "      <td>6.49</td>\n",
       "      <td>220.65</td>\n",
       "      <td>A</td>\n",
       "      <td>A2</td>\n",
       "      <td>Client Advocate</td>\n",
       "      <td>6 years</td>\n",
       "      <td>RENT</td>\n",
       "      <td>54000.0</td>\n",
       "      <td>...</td>\n",
       "      <td>6.0</td>\n",
       "      <td>0.0</td>\n",
       "      <td>5472.0</td>\n",
       "      <td>21.5</td>\n",
       "      <td>13.0</td>\n",
       "      <td>f</td>\n",
       "      <td>INDIVIDUAL</td>\n",
       "      <td>0.0</td>\n",
       "      <td>0.0</td>\n",
       "      <td>823 Reid Ford\\r\\nDelacruzside, MA 00813</td>\n",
       "    </tr>\n",
       "    <tr>\n",
       "      <th>4</th>\n",
       "      <td>24375.0</td>\n",
       "      <td>60 months</td>\n",
       "      <td>17.27</td>\n",
       "      <td>609.33</td>\n",
       "      <td>C</td>\n",
       "      <td>C5</td>\n",
       "      <td>Destiny Management Inc.</td>\n",
       "      <td>9 years</td>\n",
       "      <td>MORTGAGE</td>\n",
       "      <td>55000.0</td>\n",
       "      <td>...</td>\n",
       "      <td>13.0</td>\n",
       "      <td>0.0</td>\n",
       "      <td>24584.0</td>\n",
       "      <td>69.8</td>\n",
       "      <td>43.0</td>\n",
       "      <td>f</td>\n",
       "      <td>INDIVIDUAL</td>\n",
       "      <td>1.0</td>\n",
       "      <td>0.0</td>\n",
       "      <td>679 Luna Roads\\r\\nGreggshire, VA 11650</td>\n",
       "    </tr>\n",
       "  </tbody>\n",
       "</table>\n",
       "<p>5 rows × 27 columns</p>\n",
       "</div>"
      ],
      "text/plain": [
       "   loan_amnt        term  int_rate  installment grade sub_grade  \\\n",
       "0    10000.0   36 months     11.44       329.48     B        B4   \n",
       "1     8000.0   36 months     11.99       265.68     B        B5   \n",
       "2    15600.0   36 months     10.49       506.97     B        B3   \n",
       "3     7200.0   36 months      6.49       220.65     A        A2   \n",
       "4    24375.0   60 months     17.27       609.33     C        C5   \n",
       "\n",
       "                 emp_title emp_length home_ownership  annual_inc  ...  \\\n",
       "0                Marketing  10+ years           RENT    117000.0  ...   \n",
       "1          Credit analyst     4 years       MORTGAGE     65000.0  ...   \n",
       "2             Statistician   < 1 year           RENT     43057.0  ...   \n",
       "3          Client Advocate    6 years           RENT     54000.0  ...   \n",
       "4  Destiny Management Inc.    9 years       MORTGAGE     55000.0  ...   \n",
       "\n",
       "  open_acc pub_rec revol_bal revol_util total_acc  initial_list_status  \\\n",
       "0     16.0     0.0   36369.0       41.8      25.0                    w   \n",
       "1     17.0     0.0   20131.0       53.3      27.0                    f   \n",
       "2     13.0     0.0   11987.0       92.2      26.0                    f   \n",
       "3      6.0     0.0    5472.0       21.5      13.0                    f   \n",
       "4     13.0     0.0   24584.0       69.8      43.0                    f   \n",
       "\n",
       "  application_type  mort_acc  pub_rec_bankruptcies  \\\n",
       "0       INDIVIDUAL       0.0                   0.0   \n",
       "1       INDIVIDUAL       3.0                   0.0   \n",
       "2       INDIVIDUAL       0.0                   0.0   \n",
       "3       INDIVIDUAL       0.0                   0.0   \n",
       "4       INDIVIDUAL       1.0                   0.0   \n",
       "\n",
       "                                             address  \n",
       "0     0174 Michelle Gateway\\r\\nMendozaberg, OK 22690  \n",
       "1  1076 Carney Fort Apt. 347\\r\\nLoganmouth, SD 05113  \n",
       "2  87025 Mark Dale Apt. 269\\r\\nNew Sabrina, WV 05113  \n",
       "3            823 Reid Ford\\r\\nDelacruzside, MA 00813  \n",
       "4             679 Luna Roads\\r\\nGreggshire, VA 11650  \n",
       "\n",
       "[5 rows x 27 columns]"
      ]
     },
     "execution_count": 12,
     "metadata": {},
     "output_type": "execute_result"
    }
   ],
   "source": [
    "LoanTap.head()"
   ]
  },
  {
   "cell_type": "markdown",
   "id": "fdb51419",
   "metadata": {},
   "source": [
    "# EDA and Preprocessing"
   ]
  },
  {
   "cell_type": "code",
   "execution_count": 13,
   "id": "38276f6e",
   "metadata": {},
   "outputs": [
    {
     "data": {
      "text/plain": [
       "(396030, 27)"
      ]
     },
     "execution_count": 13,
     "metadata": {},
     "output_type": "execute_result"
    }
   ],
   "source": [
    "LoanTap.shape"
   ]
  },
  {
   "cell_type": "code",
   "execution_count": 14,
   "id": "9eba9460",
   "metadata": {},
   "outputs": [
    {
     "name": "stdout",
     "output_type": "stream",
     "text": [
      "<class 'pandas.core.frame.DataFrame'>\n",
      "RangeIndex: 396030 entries, 0 to 396029\n",
      "Data columns (total 27 columns):\n",
      " #   Column                Non-Null Count   Dtype  \n",
      "---  ------                --------------   -----  \n",
      " 0   loan_amnt             396030 non-null  float64\n",
      " 1   term                  396030 non-null  object \n",
      " 2   int_rate              396030 non-null  float64\n",
      " 3   installment           396030 non-null  float64\n",
      " 4   grade                 396030 non-null  object \n",
      " 5   sub_grade             396030 non-null  object \n",
      " 6   emp_title             373103 non-null  object \n",
      " 7   emp_length            377729 non-null  object \n",
      " 8   home_ownership        396030 non-null  object \n",
      " 9   annual_inc            396030 non-null  float64\n",
      " 10  verification_status   396030 non-null  object \n",
      " 11  issue_d               396030 non-null  object \n",
      " 12  loan_status           396030 non-null  object \n",
      " 13  purpose               396030 non-null  object \n",
      " 14  title                 394275 non-null  object \n",
      " 15  dti                   396030 non-null  float64\n",
      " 16  earliest_cr_line      396030 non-null  object \n",
      " 17  open_acc              396030 non-null  float64\n",
      " 18  pub_rec               396030 non-null  float64\n",
      " 19  revol_bal             396030 non-null  float64\n",
      " 20  revol_util            395754 non-null  float64\n",
      " 21  total_acc             396030 non-null  float64\n",
      " 22  initial_list_status   396030 non-null  object \n",
      " 23  application_type      396030 non-null  object \n",
      " 24  mort_acc              358235 non-null  float64\n",
      " 25  pub_rec_bankruptcies  395495 non-null  float64\n",
      " 26  address               396030 non-null  object \n",
      "dtypes: float64(12), object(15)\n",
      "memory usage: 81.6+ MB\n"
     ]
    }
   ],
   "source": [
    "LoanTap.info()"
   ]
  },
  {
   "cell_type": "code",
   "execution_count": 15,
   "id": "83f55cf5",
   "metadata": {},
   "outputs": [
    {
     "data": {
      "text/html": [
       "<div>\n",
       "<style scoped>\n",
       "    .dataframe tbody tr th:only-of-type {\n",
       "        vertical-align: middle;\n",
       "    }\n",
       "\n",
       "    .dataframe tbody tr th {\n",
       "        vertical-align: top;\n",
       "    }\n",
       "\n",
       "    .dataframe thead th {\n",
       "        text-align: right;\n",
       "    }\n",
       "</style>\n",
       "<table border=\"1\" class=\"dataframe\">\n",
       "  <thead>\n",
       "    <tr style=\"text-align: right;\">\n",
       "      <th></th>\n",
       "      <th>loan_amnt</th>\n",
       "      <th>int_rate</th>\n",
       "      <th>installment</th>\n",
       "      <th>annual_inc</th>\n",
       "      <th>dti</th>\n",
       "      <th>open_acc</th>\n",
       "      <th>pub_rec</th>\n",
       "      <th>revol_bal</th>\n",
       "      <th>revol_util</th>\n",
       "      <th>total_acc</th>\n",
       "      <th>mort_acc</th>\n",
       "      <th>pub_rec_bankruptcies</th>\n",
       "    </tr>\n",
       "  </thead>\n",
       "  <tbody>\n",
       "    <tr>\n",
       "      <th>count</th>\n",
       "      <td>396030.000000</td>\n",
       "      <td>396030.000000</td>\n",
       "      <td>396030.000000</td>\n",
       "      <td>3.960300e+05</td>\n",
       "      <td>396030.000000</td>\n",
       "      <td>396030.000000</td>\n",
       "      <td>396030.000000</td>\n",
       "      <td>3.960300e+05</td>\n",
       "      <td>395754.000000</td>\n",
       "      <td>396030.000000</td>\n",
       "      <td>358235.000000</td>\n",
       "      <td>395495.000000</td>\n",
       "    </tr>\n",
       "    <tr>\n",
       "      <th>mean</th>\n",
       "      <td>14113.888089</td>\n",
       "      <td>13.639400</td>\n",
       "      <td>431.849698</td>\n",
       "      <td>7.420318e+04</td>\n",
       "      <td>17.379514</td>\n",
       "      <td>11.311153</td>\n",
       "      <td>0.178191</td>\n",
       "      <td>1.584454e+04</td>\n",
       "      <td>53.791749</td>\n",
       "      <td>25.414744</td>\n",
       "      <td>1.813991</td>\n",
       "      <td>0.121648</td>\n",
       "    </tr>\n",
       "    <tr>\n",
       "      <th>std</th>\n",
       "      <td>8357.441341</td>\n",
       "      <td>4.472157</td>\n",
       "      <td>250.727790</td>\n",
       "      <td>6.163762e+04</td>\n",
       "      <td>18.019092</td>\n",
       "      <td>5.137649</td>\n",
       "      <td>0.530671</td>\n",
       "      <td>2.059184e+04</td>\n",
       "      <td>24.452193</td>\n",
       "      <td>11.886991</td>\n",
       "      <td>2.147930</td>\n",
       "      <td>0.356174</td>\n",
       "    </tr>\n",
       "    <tr>\n",
       "      <th>min</th>\n",
       "      <td>500.000000</td>\n",
       "      <td>5.320000</td>\n",
       "      <td>16.080000</td>\n",
       "      <td>0.000000e+00</td>\n",
       "      <td>0.000000</td>\n",
       "      <td>0.000000</td>\n",
       "      <td>0.000000</td>\n",
       "      <td>0.000000e+00</td>\n",
       "      <td>0.000000</td>\n",
       "      <td>2.000000</td>\n",
       "      <td>0.000000</td>\n",
       "      <td>0.000000</td>\n",
       "    </tr>\n",
       "    <tr>\n",
       "      <th>25%</th>\n",
       "      <td>8000.000000</td>\n",
       "      <td>10.490000</td>\n",
       "      <td>250.330000</td>\n",
       "      <td>4.500000e+04</td>\n",
       "      <td>11.280000</td>\n",
       "      <td>8.000000</td>\n",
       "      <td>0.000000</td>\n",
       "      <td>6.025000e+03</td>\n",
       "      <td>35.800000</td>\n",
       "      <td>17.000000</td>\n",
       "      <td>0.000000</td>\n",
       "      <td>0.000000</td>\n",
       "    </tr>\n",
       "    <tr>\n",
       "      <th>50%</th>\n",
       "      <td>12000.000000</td>\n",
       "      <td>13.330000</td>\n",
       "      <td>375.430000</td>\n",
       "      <td>6.400000e+04</td>\n",
       "      <td>16.910000</td>\n",
       "      <td>10.000000</td>\n",
       "      <td>0.000000</td>\n",
       "      <td>1.118100e+04</td>\n",
       "      <td>54.800000</td>\n",
       "      <td>24.000000</td>\n",
       "      <td>1.000000</td>\n",
       "      <td>0.000000</td>\n",
       "    </tr>\n",
       "    <tr>\n",
       "      <th>75%</th>\n",
       "      <td>20000.000000</td>\n",
       "      <td>16.490000</td>\n",
       "      <td>567.300000</td>\n",
       "      <td>9.000000e+04</td>\n",
       "      <td>22.980000</td>\n",
       "      <td>14.000000</td>\n",
       "      <td>0.000000</td>\n",
       "      <td>1.962000e+04</td>\n",
       "      <td>72.900000</td>\n",
       "      <td>32.000000</td>\n",
       "      <td>3.000000</td>\n",
       "      <td>0.000000</td>\n",
       "    </tr>\n",
       "    <tr>\n",
       "      <th>max</th>\n",
       "      <td>40000.000000</td>\n",
       "      <td>30.990000</td>\n",
       "      <td>1533.810000</td>\n",
       "      <td>8.706582e+06</td>\n",
       "      <td>9999.000000</td>\n",
       "      <td>90.000000</td>\n",
       "      <td>86.000000</td>\n",
       "      <td>1.743266e+06</td>\n",
       "      <td>892.300000</td>\n",
       "      <td>151.000000</td>\n",
       "      <td>34.000000</td>\n",
       "      <td>8.000000</td>\n",
       "    </tr>\n",
       "  </tbody>\n",
       "</table>\n",
       "</div>"
      ],
      "text/plain": [
       "           loan_amnt       int_rate    installment    annual_inc  \\\n",
       "count  396030.000000  396030.000000  396030.000000  3.960300e+05   \n",
       "mean    14113.888089      13.639400     431.849698  7.420318e+04   \n",
       "std      8357.441341       4.472157     250.727790  6.163762e+04   \n",
       "min       500.000000       5.320000      16.080000  0.000000e+00   \n",
       "25%      8000.000000      10.490000     250.330000  4.500000e+04   \n",
       "50%     12000.000000      13.330000     375.430000  6.400000e+04   \n",
       "75%     20000.000000      16.490000     567.300000  9.000000e+04   \n",
       "max     40000.000000      30.990000    1533.810000  8.706582e+06   \n",
       "\n",
       "                 dti       open_acc        pub_rec     revol_bal  \\\n",
       "count  396030.000000  396030.000000  396030.000000  3.960300e+05   \n",
       "mean       17.379514      11.311153       0.178191  1.584454e+04   \n",
       "std        18.019092       5.137649       0.530671  2.059184e+04   \n",
       "min         0.000000       0.000000       0.000000  0.000000e+00   \n",
       "25%        11.280000       8.000000       0.000000  6.025000e+03   \n",
       "50%        16.910000      10.000000       0.000000  1.118100e+04   \n",
       "75%        22.980000      14.000000       0.000000  1.962000e+04   \n",
       "max      9999.000000      90.000000      86.000000  1.743266e+06   \n",
       "\n",
       "          revol_util      total_acc       mort_acc  pub_rec_bankruptcies  \n",
       "count  395754.000000  396030.000000  358235.000000         395495.000000  \n",
       "mean       53.791749      25.414744       1.813991              0.121648  \n",
       "std        24.452193      11.886991       2.147930              0.356174  \n",
       "min         0.000000       2.000000       0.000000              0.000000  \n",
       "25%        35.800000      17.000000       0.000000              0.000000  \n",
       "50%        54.800000      24.000000       1.000000              0.000000  \n",
       "75%        72.900000      32.000000       3.000000              0.000000  \n",
       "max       892.300000     151.000000      34.000000              8.000000  "
      ]
     },
     "execution_count": 15,
     "metadata": {},
     "output_type": "execute_result"
    }
   ],
   "source": [
    "LoanTap.describe()"
   ]
  },
  {
   "cell_type": "code",
   "execution_count": 16,
   "id": "330df7fd",
   "metadata": {},
   "outputs": [
    {
     "data": {
      "text/plain": [
       "loan_amnt                   0\n",
       "term                        0\n",
       "int_rate                    0\n",
       "installment                 0\n",
       "grade                       0\n",
       "sub_grade                   0\n",
       "emp_title               22927\n",
       "emp_length              18301\n",
       "home_ownership              0\n",
       "annual_inc                  0\n",
       "verification_status         0\n",
       "issue_d                     0\n",
       "loan_status                 0\n",
       "purpose                     0\n",
       "title                    1755\n",
       "dti                         0\n",
       "earliest_cr_line            0\n",
       "open_acc                    0\n",
       "pub_rec                     0\n",
       "revol_bal                   0\n",
       "revol_util                276\n",
       "total_acc                   0\n",
       "initial_list_status         0\n",
       "application_type            0\n",
       "mort_acc                37795\n",
       "pub_rec_bankruptcies      535\n",
       "address                     0\n",
       "dtype: int64"
      ]
     },
     "execution_count": 16,
     "metadata": {},
     "output_type": "execute_result"
    }
   ],
   "source": [
    "LoanTap.isna().sum()"
   ]
  },
  {
   "cell_type": "code",
   "execution_count": 17,
   "id": "ffc6c163",
   "metadata": {},
   "outputs": [
    {
     "data": {
      "text/plain": [
       "loan_status\n",
       "Charged Off    0.196129\n",
       "Fully Paid     0.803871\n",
       "Name: loan_status, dtype: float64"
      ]
     },
     "execution_count": 17,
     "metadata": {},
     "output_type": "execute_result"
    }
   ],
   "source": [
    "LoanTap.groupby([\"loan_status\"])[\"loan_status\"].count()/LoanTap.shape[0]"
   ]
  },
  {
   "cell_type": "code",
   "execution_count": 18,
   "id": "3761f10b",
   "metadata": {},
   "outputs": [
    {
     "data": {
      "text/plain": [
       "<AxesSubplot:xlabel='loan_status', ylabel='count'>"
      ]
     },
     "execution_count": 18,
     "metadata": {},
     "output_type": "execute_result"
    },
    {
     "data": {
      "image/png": "[encoded data removed]",
      "text/plain": [
       "<Figure size 432x288 with 1 Axes>"
      ]
     },
     "metadata": {
      "needs_background": "light"
     },
     "output_type": "display_data"
    }
   ],
   "source": [
    "sns.countplot(x=LoanTap[\"loan_status\"])"
   ]
  },
  {
   "cell_type": "code",
   "execution_count": 19,
   "id": "16289e69",
   "metadata": {},
   "outputs": [
    {
     "data": {
      "text/plain": [
       "array([329.48, 265.68, 506.97, ..., 343.14, 118.13, 572.44])"
      ]
     },
     "execution_count": 19,
     "metadata": {},
     "output_type": "execute_result"
    }
   ],
   "source": [
    "LoanTap[\"installment\"].unique()"
   ]
  },
  {
   "cell_type": "code",
   "execution_count": 20,
   "id": "28f01a6c",
   "metadata": {},
   "outputs": [
    {
     "data": {
      "text/plain": [
       "55706"
      ]
     },
     "execution_count": 20,
     "metadata": {},
     "output_type": "execute_result"
    }
   ],
   "source": [
    "LoanTap[\"installment\"].nunique()"
   ]
  },
  {
   "cell_type": "code",
   "execution_count": 21,
   "id": "4741f89b",
   "metadata": {},
   "outputs": [
    {
     "data": {
      "text/plain": [
       "array([10000.,  8000., 15600., ..., 36275., 36475.,   725.])"
      ]
     },
     "execution_count": 21,
     "metadata": {},
     "output_type": "execute_result"
    }
   ],
   "source": [
    "LoanTap[\"loan_amnt\"].unique()"
   ]
  },
  {
   "cell_type": "code",
   "execution_count": 22,
   "id": "cbf98eec",
   "metadata": {},
   "outputs": [
    {
     "data": {
      "text/plain": [
       "1397"
      ]
     },
     "execution_count": 22,
     "metadata": {},
     "output_type": "execute_result"
    }
   ],
   "source": [
    "LoanTap[\"loan_amnt\"].nunique()"
   ]
  },
  {
   "cell_type": "code",
   "execution_count": 23,
   "id": "a01ab0cd",
   "metadata": {},
   "outputs": [
    {
     "data": {
      "text/plain": [
       "500.0"
      ]
     },
     "execution_count": 23,
     "metadata": {},
     "output_type": "execute_result"
    }
   ],
   "source": [
    "LoanTap[\"loan_amnt\"].min()"
   ]
  },
  {
   "cell_type": "code",
   "execution_count": 24,
   "id": "486dbbc4",
   "metadata": {},
   "outputs": [
    {
     "data": {
      "text/plain": [
       "40000.0"
      ]
     },
     "execution_count": 24,
     "metadata": {},
     "output_type": "execute_result"
    }
   ],
   "source": [
    "LoanTap[\"loan_amnt\"].max()"
   ]
  },
  {
   "cell_type": "code",
   "execution_count": 25,
   "id": "e91e2437",
   "metadata": {},
   "outputs": [
    {
     "data": {
      "image/png": "[encoded data removed]",
      "text/plain": [
       "<Figure size 432x288 with 1 Axes>"
      ]
     },
     "metadata": {
      "needs_background": "light"
     },
     "output_type": "display_data"
    }
   ],
   "source": [
    "sns.histplot(x=LoanTap[\"loan_amnt\"])\n",
    "plt.show()"
   ]
  },
  {
   "cell_type": "code",
   "execution_count": 26,
   "id": "30c29017",
   "metadata": {},
   "outputs": [
    {
     "data": {
      "text/plain": [
       "<AxesSubplot:xlabel='term', ylabel='count'>"
      ]
     },
     "execution_count": 26,
     "metadata": {},
     "output_type": "execute_result"
    },
    {
     "data": {
      "image/png": "[encoded data removed]",
      "text/plain": [
       "<Figure size 432x288 with 1 Axes>"
      ]
     },
     "metadata": {
      "needs_background": "light"
     },
     "output_type": "display_data"
    }
   ],
   "source": [
    "sns.countplot(x=LoanTap[\"term\"])"
   ]
  },
  {
   "cell_type": "code",
   "execution_count": 27,
   "id": "c50dd6fd",
   "metadata": {},
   "outputs": [
    {
     "data": {
      "text/plain": [
       "5.32"
      ]
     },
     "execution_count": 27,
     "metadata": {},
     "output_type": "execute_result"
    }
   ],
   "source": [
    "LoanTap[\"int_rate\"].min()"
   ]
  },
  {
   "cell_type": "code",
   "execution_count": 28,
   "id": "2cb45c85",
   "metadata": {},
   "outputs": [
    {
     "data": {
      "text/plain": [
       "30.99"
      ]
     },
     "execution_count": 28,
     "metadata": {},
     "output_type": "execute_result"
    }
   ],
   "source": [
    "LoanTap[\"int_rate\"].max()"
   ]
  },
  {
   "cell_type": "code",
   "execution_count": 29,
   "id": "f0bdb244",
   "metadata": {},
   "outputs": [
    {
     "data": {
      "text/plain": [
       "<AxesSubplot:xlabel='int_rate', ylabel='Count'>"
      ]
     },
     "execution_count": 29,
     "metadata": {},
     "output_type": "execute_result"
    },
    {
     "data": {
      "image/png": "[encoded data removed]",
      "text/plain": [
       "<Figure size 432x288 with 1 Axes>"
      ]
     },
     "metadata": {
      "needs_background": "light"
     },
     "output_type": "display_data"
    }
   ],
   "source": [
    "sns.histplot(x=LoanTap[\"int_rate\"])"
   ]
  },
  {
   "cell_type": "code",
   "execution_count": 30,
   "id": "d2920244",
   "metadata": {},
   "outputs": [
    {
     "data": {
      "text/plain": [
       "B    116018\n",
       "C    105987\n",
       "A     64187\n",
       "D     63524\n",
       "E     31488\n",
       "F     11772\n",
       "G      3054\n",
       "Name: grade, dtype: int64"
      ]
     },
     "execution_count": 30,
     "metadata": {},
     "output_type": "execute_result"
    }
   ],
   "source": [
    "LoanTap[\"grade\"].value_counts()"
   ]
  },
  {
   "cell_type": "code",
   "execution_count": 31,
   "id": "b8b83b45",
   "metadata": {},
   "outputs": [
    {
     "data": {
      "text/plain": [
       "<AxesSubplot:xlabel='grade', ylabel='count'>"
      ]
     },
     "execution_count": 31,
     "metadata": {},
     "output_type": "execute_result"
    },
    {
     "data": {
      "image/png": "[encoded data removed]",
      "text/plain": [
       "<Figure size 432x288 with 1 Axes>"
      ]
     },
     "metadata": {
      "needs_background": "light"
     },
     "output_type": "display_data"
    }
   ],
   "source": [
    "sns.countplot(x=LoanTap[\"grade\"])"
   ]
  },
  {
   "cell_type": "code",
   "execution_count": 32,
   "id": "b84121fb",
   "metadata": {},
   "outputs": [
    {
     "data": {
      "text/plain": [
       "<AxesSubplot:xlabel='sub_grade', ylabel='count'>"
      ]
     },
     "execution_count": 32,
     "metadata": {},
     "output_type": "execute_result"
    },
    {
     "data": {
      "image/png": "[encoded data removed]",
      "text/plain": [
       "<Figure size 864x576 with 1 Axes>"
      ]
     },
     "metadata": {
      "needs_background": "light"
     },
     "output_type": "display_data"
    }
   ],
   "source": [
    "plt.figure(figsize=(12,8))\n",
    "sns.countplot(x=LoanTap[\"sub_grade\"])\n"
   ]
  },
  {
   "cell_type": "code",
   "execution_count": 33,
   "id": "a94459bd",
   "metadata": {},
   "outputs": [
    {
     "data": {
      "text/plain": [
       "10+ years    126041\n",
       "2 years       35827\n",
       "< 1 year      31725\n",
       "3 years       31665\n",
       "5 years       26495\n",
       "1 year        25882\n",
       "4 years       23952\n",
       "6 years       20841\n",
       "7 years       20819\n",
       "8 years       19168\n",
       "9 years       15314\n",
       "Name: emp_length, dtype: int64"
      ]
     },
     "execution_count": 33,
     "metadata": {},
     "output_type": "execute_result"
    }
   ],
   "source": [
    "LoanTap[\"emp_length\"].value_counts()"
   ]
  },
  {
   "cell_type": "code",
   "execution_count": 34,
   "id": "e9946585",
   "metadata": {},
   "outputs": [
    {
     "data": {
      "text/plain": [
       "<AxesSubplot:xlabel='emp_length', ylabel='count'>"
      ]
     },
     "execution_count": 34,
     "metadata": {},
     "output_type": "execute_result"
    },
    {
     "data": {
      "image/png": "[encoded data removed]",
      "text/plain": [
       "<Figure size 864x432 with 1 Axes>"
      ]
     },
     "metadata": {
      "needs_background": "light"
     },
     "output_type": "display_data"
    }
   ],
   "source": [
    "plt.figure(figsize=(12,6))\n",
    "sns.countplot(x=LoanTap[\"emp_length\"])"
   ]
  },
  {
   "cell_type": "code",
   "execution_count": 35,
   "id": "44282f13",
   "metadata": {},
   "outputs": [
    {
     "data": {
      "text/plain": [
       "MORTGAGE    198348\n",
       "RENT        159790\n",
       "OWN          37746\n",
       "OTHER          112\n",
       "NONE            31\n",
       "ANY              3\n",
       "Name: home_ownership, dtype: int64"
      ]
     },
     "execution_count": 35,
     "metadata": {},
     "output_type": "execute_result"
    }
   ],
   "source": [
    "LoanTap[\"home_ownership\"].value_counts()"
   ]
  },
  {
   "cell_type": "code",
   "execution_count": 36,
   "id": "82776f0a",
   "metadata": {},
   "outputs": [
    {
     "data": {
      "text/plain": [
       "<AxesSubplot:xlabel='home_ownership', ylabel='count'>"
      ]
     },
     "execution_count": 36,
     "metadata": {},
     "output_type": "execute_result"
    },
    {
     "data": {
      "image/png": "[encoded data removed]",
      "text/plain": [
       "<Figure size 576x288 with 1 Axes>"
      ]
     },
     "metadata": {
      "needs_background": "light"
     },
     "output_type": "display_data"
    }
   ],
   "source": [
    "plt.figure(figsize=(8,4))\n",
    "sns.countplot(x=LoanTap[\"home_ownership\"])"
   ]
  },
  {
   "cell_type": "code",
   "execution_count": 37,
   "id": "3d17fc40",
   "metadata": {},
   "outputs": [
    {
     "data": {
      "text/plain": [
       "array([26.24, 22.05, 12.79, ..., 40.56, 47.09, 55.53])"
      ]
     },
     "execution_count": 37,
     "metadata": {},
     "output_type": "execute_result"
    }
   ],
   "source": [
    "LoanTap[\"dti\"].unique()"
   ]
  },
  {
   "cell_type": "code",
   "execution_count": 38,
   "id": "cf54c4fd",
   "metadata": {},
   "outputs": [
    {
     "data": {
      "text/plain": [
       "1397"
      ]
     },
     "execution_count": 38,
     "metadata": {},
     "output_type": "execute_result"
    }
   ],
   "source": [
    "LoanTap[\"loan_amnt\"].nunique()"
   ]
  },
  {
   "cell_type": "code",
   "execution_count": 39,
   "id": "97a518ab",
   "metadata": {},
   "outputs": [
    {
     "data": {
      "text/plain": [
       "0.0"
      ]
     },
     "execution_count": 39,
     "metadata": {},
     "output_type": "execute_result"
    }
   ],
   "source": [
    "LoanTap[\"dti\"].min()"
   ]
  },
  {
   "cell_type": "code",
   "execution_count": 40,
   "id": "929bb004",
   "metadata": {},
   "outputs": [
    {
     "data": {
      "text/plain": [
       "9999.0"
      ]
     },
     "execution_count": 40,
     "metadata": {},
     "output_type": "execute_result"
    }
   ],
   "source": [
    "LoanTap[\"dti\"].max()"
   ]
  },
  {
   "cell_type": "code",
   "execution_count": 41,
   "id": "5f2491e8",
   "metadata": {},
   "outputs": [
    {
     "data": {
      "text/plain": [
       "debt_consolidation    0.592145\n",
       "credit_card           0.209628\n",
       "home_improvement      0.060677\n",
       "other                 0.053493\n",
       "major_purchase        0.022195\n",
       "small_business        0.014395\n",
       "car                   0.011860\n",
       "medical               0.010595\n",
       "moving                0.007207\n",
       "vacation              0.006191\n",
       "house                 0.005558\n",
       "wedding               0.004575\n",
       "renewable_energy      0.000831\n",
       "educational           0.000649\n",
       "Name: purpose, dtype: float64"
      ]
     },
     "execution_count": 41,
     "metadata": {},
     "output_type": "execute_result"
    }
   ],
   "source": [
    "LoanTap[\"purpose\"].value_counts()/LoanTap.shape[0]"
   ]
  },
  {
   "cell_type": "code",
   "execution_count": 42,
   "id": "507d333d",
   "metadata": {},
   "outputs": [
    {
     "data": {
      "image/png": "[encoded data removed]",
      "text/plain": [
       "<Figure size 864x432 with 1 Axes>"
      ]
     },
     "metadata": {
      "needs_background": "light"
     },
     "output_type": "display_data"
    }
   ],
   "source": [
    "plt.figure(figsize=(12,6))\n",
    "sns.countplot(x=LoanTap[\"purpose\"])\n",
    "plt.xticks(rotation=45)\n",
    "plt.show()"
   ]
  },
  {
   "cell_type": "code",
   "execution_count": 43,
   "id": "9052220a",
   "metadata": {},
   "outputs": [
    {
     "data": {
      "text/plain": [
       "Debt consolidation            152472\n",
       "Credit card refinancing        51487\n",
       "Home improvement               15264\n",
       "Other                          12930\n",
       "Debt Consolidation             11608\n",
       "                               ...  \n",
       "Graduation/Travel Expenses         1\n",
       "Daughter's Wedding Bill            1\n",
       "gotta move                         1\n",
       "creditcardrefi                     1\n",
       "Toxic Debt Payoff                  1\n",
       "Name: title, Length: 48817, dtype: int64"
      ]
     },
     "execution_count": 43,
     "metadata": {},
     "output_type": "execute_result"
    }
   ],
   "source": [
    "LoanTap[\"title\"].value_counts()"
   ]
  },
  {
   "cell_type": "code",
   "execution_count": 44,
   "id": "9667b626",
   "metadata": {},
   "outputs": [
    {
     "data": {
      "text/plain": [
       "<AxesSubplot:xlabel='loan_amnt', ylabel='installment'>"
      ]
     },
     "execution_count": 44,
     "metadata": {},
     "output_type": "execute_result"
    },
    {
     "data": {
      "image/png": "[encoded data removed]",
      "text/plain": [
       "<Figure size 432x288 with 1 Axes>"
      ]
     },
     "metadata": {
      "needs_background": "light"
     },
     "output_type": "display_data"
    }
   ],
   "source": [
    "sns.scatterplot(x=LoanTap[\"loan_amnt\"],y=LoanTap[\"installment\"])"
   ]
  },
  {
   "cell_type": "markdown",
   "id": "e6f6c82a",
   "metadata": {},
   "source": [
    "Installment and loan_amt are positively correlated so we can drop one of them."
   ]
  },
  {
   "cell_type": "code",
   "execution_count": 45,
   "id": "2988cd59",
   "metadata": {},
   "outputs": [],
   "source": [
    "LoanTap.drop(columns=\"installment\",inplace=True)"
   ]
  },
  {
   "cell_type": "code",
   "execution_count": 46,
   "id": "ca6d1e14",
   "metadata": {},
   "outputs": [
    {
     "data": {
      "text/plain": [
       "loan_status  grade\n",
       "Charged Off  A          4036\n",
       "             B         14587\n",
       "             C         22449\n",
       "             D         18338\n",
       "             E         11765\n",
       "             F          5037\n",
       "             G          1461\n",
       "Fully Paid   A         60151\n",
       "             B        101431\n",
       "             C         83538\n",
       "             D         45186\n",
       "             E         19723\n",
       "             F          6735\n",
       "             G          1593\n",
       "Name: loan_status, dtype: int64"
      ]
     },
     "execution_count": 46,
     "metadata": {},
     "output_type": "execute_result"
    }
   ],
   "source": [
    "LoanTap.groupby([\"loan_status\",\"grade\"])[\"loan_status\"].count()"
   ]
  },
  {
   "cell_type": "code",
   "execution_count": 47,
   "id": "8f1dc74e",
   "metadata": {},
   "outputs": [
    {
     "data": {
      "text/plain": [
       "<AxesSubplot:xlabel='grade', ylabel='count'>"
      ]
     },
     "execution_count": 47,
     "metadata": {},
     "output_type": "execute_result"
    },
    {
     "data": {
      "image/png": "[encoded data removed]",
      "text/plain": [
       "<Figure size 432x288 with 1 Axes>"
      ]
     },
     "metadata": {
      "needs_background": "light"
     },
     "output_type": "display_data"
    }
   ],
   "source": [
    "sns.countplot(x=LoanTap[\"grade\"],hue=LoanTap[\"loan_status\"])"
   ]
  },
  {
   "cell_type": "code",
   "execution_count": 48,
   "id": "b678bfa7",
   "metadata": {},
   "outputs": [
    {
     "data": {
      "text/plain": [
       "emp_title                                         loan_status\n",
       "Teacher                                           Fully Paid     3532\n",
       "Manager                                           Fully Paid     3321\n",
       "Registered Nurse                                  Fully Paid     1476\n",
       "RN                                                Fully Paid     1467\n",
       "Supervisor                                        Fully Paid     1425\n",
       "                                                                 ... \n",
       "Hunter Truck Sales                                Fully Paid        1\n",
       "Hunterdon County Educational Services Commission  Fully Paid        1\n",
       "Hunterdon Developmental Center                    Fully Paid        1\n",
       "Hunterdon Healthcare supportive Services          Fully Paid        1\n",
       "​License Compliance Investigator                  Fully Paid        1\n",
       "Name: loan_status, Length: 185292, dtype: int64"
      ]
     },
     "execution_count": 48,
     "metadata": {},
     "output_type": "execute_result"
    }
   ],
   "source": [
    "LoanTap.groupby([\"emp_title\",\"loan_status\"])[\"loan_status\"].count().sort_values(ascending=False)"
   ]
  },
  {
   "cell_type": "code",
   "execution_count": 49,
   "id": "3d438d14",
   "metadata": {},
   "outputs": [
    {
     "name": "stdout",
     "output_type": "stream",
     "text": [
      "Top 2 affordable Job Titles \n",
      "loan_status                Fully Paid  Charged Off  percentage of Fully paid\n",
      "emp_title                                                                   \n",
      "       NSA Industries llc         1.0          0.0                     100.0\n",
      "Recreation Coordinator            1.0          0.0                     100.0\n"
     ]
    }
   ],
   "source": [
    "fully_paid_charged_off_loans = LoanTap.loc[LoanTap['loan_status'].isin(['Fully Paid', 'Charged Off'])]\n",
    "\n",
    "# Step 2: Group by job title and count the number of occurrences for each job title\n",
    "job_title_counts = fully_paid_charged_off_loans.groupby('emp_title')['loan_status'].value_counts().unstack().fillna(0)\n",
    "\n",
    "# Step 3: Calculate the percentage of Fully paid for each emp title\n",
    "job_title_counts['percentage of Fully paid'] = (job_title_counts['Fully Paid'] / ((job_title_counts['Charged Off'] + job_title_counts['Fully Paid'])))*100  \n",
    "\n",
    "# Step 4: Sort the job titles based on the percentage in descending order\n",
    "sorted_job_titles = job_title_counts.sort_values(by='percentage of Fully paid', ascending=False)\n",
    "\n",
    "# Step 5: Select the top 2  affordable job titles\n",
    "top_2_job_titles = sorted_job_titles.head(2)\n",
    "\n",
    "# Display the results\n",
    "print(\"Top 2 affordable Job Titles \")\n",
    "print(top_2_job_titles[['Fully Paid', 'Charged Off', 'percentage of Fully paid']])"
   ]
  },
  {
   "cell_type": "code",
   "execution_count": 50,
   "id": "8ff53609",
   "metadata": {},
   "outputs": [
    {
     "data": {
      "text/plain": [
       "0.43710072469257377"
      ]
     },
     "execution_count": 50,
     "metadata": {},
     "output_type": "execute_result"
    }
   ],
   "source": [
    "LoanTap[\"emp_title\"].nunique()/LoanTap.shape[0]"
   ]
  },
  {
   "cell_type": "code",
   "execution_count": 51,
   "id": "c9e7e38b",
   "metadata": {},
   "outputs": [
    {
     "data": {
      "text/plain": [
       "35"
      ]
     },
     "execution_count": 51,
     "metadata": {},
     "output_type": "execute_result"
    }
   ],
   "source": [
    "LoanTap[\"sub_grade\"].nunique()"
   ]
  },
  {
   "cell_type": "code",
   "execution_count": 52,
   "id": "bd042e61",
   "metadata": {},
   "outputs": [
    {
     "data": {
      "image/png": "[encoded data removed]",
      "text/plain": [
       "<Figure size 1296x720 with 1 Axes>"
      ]
     },
     "metadata": {
      "needs_background": "light"
     },
     "output_type": "display_data"
    }
   ],
   "source": [
    "plt.figure(figsize=(18,10))\n",
    "sns.countplot(x=LoanTap[\"sub_grade\"],hue=LoanTap[\"loan_status\"])\n",
    "plt.show()"
   ]
  },
  {
   "cell_type": "code",
   "execution_count": 53,
   "id": "5b074e73",
   "metadata": {},
   "outputs": [
    {
     "data": {
      "image/png": "[encoded data removed]",
      "text/plain": [
       "<Figure size 1296x720 with 1 Axes>"
      ]
     },
     "metadata": {
      "needs_background": "light"
     },
     "output_type": "display_data"
    }
   ],
   "source": [
    "plt.figure(figsize=(18,10))\n",
    "sns.histplot(x=LoanTap[\"sub_grade\"],hue=LoanTap[\"loan_status\"])\n",
    "plt.show()"
   ]
  },
  {
   "cell_type": "code",
   "execution_count": 54,
   "id": "e43b055e",
   "metadata": {},
   "outputs": [
    {
     "data": {
      "image/png": "[encoded data removed]",
      "text/plain": [
       "<Figure size 864x432 with 1 Axes>"
      ]
     },
     "metadata": {
      "needs_background": "light"
     },
     "output_type": "display_data"
    }
   ],
   "source": [
    "plt.figure(figsize=(12,6))\n",
    "sns.countplot(x=LoanTap[\"purpose\"],hue=LoanTap[\"loan_status\"])\n",
    "plt.xticks(rotation=45)\n",
    "plt.show()"
   ]
  },
  {
   "cell_type": "code",
   "execution_count": 55,
   "id": "c7012f31",
   "metadata": {},
   "outputs": [
    {
     "data": {
      "text/plain": [
       "array(['Vacation', 'Debt consolidation', 'Credit card refinancing', ...,\n",
       "       'Credit buster ', 'Loanforpayoff', 'Toxic Debt Payoff'],\n",
       "      dtype=object)"
      ]
     },
     "execution_count": 55,
     "metadata": {},
     "output_type": "execute_result"
    }
   ],
   "source": [
    "LoanTap[\"title\"].unique()"
   ]
  },
  {
   "cell_type": "code",
   "execution_count": 56,
   "id": "102470d0",
   "metadata": {},
   "outputs": [
    {
     "data": {
      "text/plain": [
       "48817"
      ]
     },
     "execution_count": 56,
     "metadata": {},
     "output_type": "execute_result"
    }
   ],
   "source": [
    "LoanTap[\"title\"].nunique()"
   ]
  },
  {
   "cell_type": "markdown",
   "id": "c7b51423",
   "metadata": {},
   "source": [
    "Some of the columns are not Good Predictors for prediction of Loan status so we need to drop those feature."
   ]
  },
  {
   "cell_type": "code",
   "execution_count": 57,
   "id": "02fe431d",
   "metadata": {},
   "outputs": [],
   "source": [
    "irre_cols= [\"grade\",\"sub_grade\",\"emp_title\",\"title\"]\n",
    "LoanTap.drop(columns=irre_cols,inplace=True)"
   ]
  },
  {
   "cell_type": "code",
   "execution_count": 58,
   "id": "ba3cc989",
   "metadata": {},
   "outputs": [
    {
     "name": "stdout",
     "output_type": "stream",
     "text": [
      "<class 'pandas.core.frame.DataFrame'>\n",
      "RangeIndex: 396030 entries, 0 to 396029\n",
      "Data columns (total 22 columns):\n",
      " #   Column                Non-Null Count   Dtype  \n",
      "---  ------                --------------   -----  \n",
      " 0   loan_amnt             396030 non-null  float64\n",
      " 1   term                  396030 non-null  object \n",
      " 2   int_rate              396030 non-null  float64\n",
      " 3   emp_length            377729 non-null  object \n",
      " 4   home_ownership        396030 non-null  object \n",
      " 5   annual_inc            396030 non-null  float64\n",
      " 6   verification_status   396030 non-null  object \n",
      " 7   issue_d               396030 non-null  object \n",
      " 8   loan_status           396030 non-null  object \n",
      " 9   purpose               396030 non-null  object \n",
      " 10  dti                   396030 non-null  float64\n",
      " 11  earliest_cr_line      396030 non-null  object \n",
      " 12  open_acc              396030 non-null  float64\n",
      " 13  pub_rec               396030 non-null  float64\n",
      " 14  revol_bal             396030 non-null  float64\n",
      " 15  revol_util            395754 non-null  float64\n",
      " 16  total_acc             396030 non-null  float64\n",
      " 17  initial_list_status   396030 non-null  object \n",
      " 18  application_type      396030 non-null  object \n",
      " 19  mort_acc              358235 non-null  float64\n",
      " 20  pub_rec_bankruptcies  395495 non-null  float64\n",
      " 21  address               396030 non-null  object \n",
      "dtypes: float64(11), object(11)\n",
      "memory usage: 66.5+ MB\n"
     ]
    }
   ],
   "source": [
    "LoanTap.info()"
   ]
  },
  {
   "cell_type": "code",
   "execution_count": 59,
   "id": "fb3dcaea",
   "metadata": {},
   "outputs": [
    {
     "data": {
      "text/plain": [
       "array(['10+ years', '4 years', '< 1 year', '6 years', '9 years',\n",
       "       '2 years', '3 years', '8 years', '7 years', '5 years', '1 year',\n",
       "       nan], dtype=object)"
      ]
     },
     "execution_count": 59,
     "metadata": {},
     "output_type": "execute_result"
    }
   ],
   "source": [
    "LoanTap[\"emp_length\"].unique()"
   ]
  },
  {
   "cell_type": "code",
   "execution_count": 60,
   "id": "6e630fbb",
   "metadata": {},
   "outputs": [],
   "source": [
    "LoanTap[\"term\"] = LoanTap[\"term\"].map({\" 36 months\" : 36,\" 60 months\" : 60})\n",
    "LoanTap[\"emp_length\"] = LoanTap[\"emp_length\"].map({\"10+ years\" : 10,\"4 years\" : 4,\"< 1 year\": 0,\n",
    "                                                   \"6 years\": 6,\"9 years\" : 9,\"2 years\" : 2,\"3 years\" : 3,\n",
    "                                                  \"8 years\" : 8,\"7 years\" : 7,\"5 years\":5,\"1 year\":1,np.nan:np.nan})"
   ]
  },
  {
   "cell_type": "code",
   "execution_count": 61,
   "id": "ef370fbd",
   "metadata": {},
   "outputs": [
    {
     "data": {
      "text/plain": [
       "array([10.,  4.,  0.,  6.,  9.,  2.,  3.,  8.,  7.,  5.,  1., nan])"
      ]
     },
     "execution_count": 61,
     "metadata": {},
     "output_type": "execute_result"
    }
   ],
   "source": [
    "LoanTap[\"emp_length\"].unique()"
   ]
  },
  {
   "cell_type": "code",
   "execution_count": 62,
   "id": "305f67d7",
   "metadata": {},
   "outputs": [
    {
     "data": {
      "text/plain": [
       "array([36, 60], dtype=int64)"
      ]
     },
     "execution_count": 62,
     "metadata": {},
     "output_type": "execute_result"
    }
   ],
   "source": [
    "LoanTap[\"term\"].unique()"
   ]
  },
  {
   "cell_type": "code",
   "execution_count": 63,
   "id": "aa57490e",
   "metadata": {},
   "outputs": [
    {
     "name": "stdout",
     "output_type": "stream",
     "text": [
      "<class 'pandas.core.frame.DataFrame'>\n",
      "RangeIndex: 396030 entries, 0 to 396029\n",
      "Data columns (total 22 columns):\n",
      " #   Column                Non-Null Count   Dtype  \n",
      "---  ------                --------------   -----  \n",
      " 0   loan_amnt             396030 non-null  float64\n",
      " 1   term                  396030 non-null  int64  \n",
      " 2   int_rate              396030 non-null  float64\n",
      " 3   emp_length            377729 non-null  float64\n",
      " 4   home_ownership        396030 non-null  object \n",
      " 5   annual_inc            396030 non-null  float64\n",
      " 6   verification_status   396030 non-null  object \n",
      " 7   issue_d               396030 non-null  object \n",
      " 8   loan_status           396030 non-null  object \n",
      " 9   purpose               396030 non-null  object \n",
      " 10  dti                   396030 non-null  float64\n",
      " 11  earliest_cr_line      396030 non-null  object \n",
      " 12  open_acc              396030 non-null  float64\n",
      " 13  pub_rec               396030 non-null  float64\n",
      " 14  revol_bal             396030 non-null  float64\n",
      " 15  revol_util            395754 non-null  float64\n",
      " 16  total_acc             396030 non-null  float64\n",
      " 17  initial_list_status   396030 non-null  object \n",
      " 18  application_type      396030 non-null  object \n",
      " 19  mort_acc              358235 non-null  float64\n",
      " 20  pub_rec_bankruptcies  395495 non-null  float64\n",
      " 21  address               396030 non-null  object \n",
      "dtypes: float64(12), int64(1), object(9)\n",
      "memory usage: 66.5+ MB\n"
     ]
    }
   ],
   "source": [
    "LoanTap.info()"
   ]
  },
  {
   "cell_type": "code",
   "execution_count": 64,
   "id": "08a7123e",
   "metadata": {},
   "outputs": [
    {
     "data": {
      "text/plain": [
       "array([ 0.,  1.,  2.,  3.,  4.,  6.,  5.,  8.,  9., 10., 11.,  7., 19.,\n",
       "       13., 40., 17., 86., 12., 24., 15.])"
      ]
     },
     "execution_count": 64,
     "metadata": {},
     "output_type": "execute_result"
    }
   ],
   "source": [
    "LoanTap[\"pub_rec\"].unique()"
   ]
  },
  {
   "cell_type": "code",
   "execution_count": 65,
   "id": "030fe9c2",
   "metadata": {},
   "outputs": [
    {
     "data": {
      "text/plain": [
       "array([ 0.,  1.,  2.,  3., nan,  4.,  5.,  6.,  7.,  8.])"
      ]
     },
     "execution_count": 65,
     "metadata": {},
     "output_type": "execute_result"
    }
   ],
   "source": [
    "LoanTap[\"pub_rec_bankruptcies\"].unique()"
   ]
  },
  {
   "cell_type": "code",
   "execution_count": 66,
   "id": "a906c2ec",
   "metadata": {},
   "outputs": [
    {
     "data": {
      "text/plain": [
       "array([ 0.,  3.,  1.,  4.,  2.,  6.,  5., nan, 10.,  7., 12., 11.,  8.,\n",
       "        9., 13., 14., 22., 34., 15., 25., 19., 16., 17., 32., 18., 24.,\n",
       "       21., 20., 31., 28., 30., 23., 26., 27.])"
      ]
     },
     "execution_count": 66,
     "metadata": {},
     "output_type": "execute_result"
    }
   ],
   "source": [
    "LoanTap[\"mort_acc\"].unique()"
   ]
  },
  {
   "cell_type": "code",
   "execution_count": 67,
   "id": "606e664f",
   "metadata": {},
   "outputs": [],
   "source": [
    "flag_cration_cols= [\"pub_rec\",\"pub_rec_bankruptcies\",\"mort_acc\"]\n",
    "for i in flag_cration_cols:\n",
    "    LoanTap[i] = LoanTap[i].apply(lambda x:1 if x>1 else 0)"
   ]
  },
  {
   "cell_type": "code",
   "execution_count": 68,
   "id": "b1a82113",
   "metadata": {},
   "outputs": [
    {
     "name": "stdout",
     "output_type": "stream",
     "text": [
      "<class 'pandas.core.frame.DataFrame'>\n",
      "RangeIndex: 396030 entries, 0 to 396029\n",
      "Data columns (total 22 columns):\n",
      " #   Column                Non-Null Count   Dtype  \n",
      "---  ------                --------------   -----  \n",
      " 0   loan_amnt             396030 non-null  float64\n",
      " 1   term                  396030 non-null  int64  \n",
      " 2   int_rate              396030 non-null  float64\n",
      " 3   emp_length            377729 non-null  float64\n",
      " 4   home_ownership        396030 non-null  object \n",
      " 5   annual_inc            396030 non-null  float64\n",
      " 6   verification_status   396030 non-null  object \n",
      " 7   issue_d               396030 non-null  object \n",
      " 8   loan_status           396030 non-null  object \n",
      " 9   purpose               396030 non-null  object \n",
      " 10  dti                   396030 non-null  float64\n",
      " 11  earliest_cr_line      396030 non-null  object \n",
      " 12  open_acc              396030 non-null  float64\n",
      " 13  pub_rec               396030 non-null  int64  \n",
      " 14  revol_bal             396030 non-null  float64\n",
      " 15  revol_util            395754 non-null  float64\n",
      " 16  total_acc             396030 non-null  float64\n",
      " 17  initial_list_status   396030 non-null  object \n",
      " 18  application_type      396030 non-null  object \n",
      " 19  mort_acc              396030 non-null  int64  \n",
      " 20  pub_rec_bankruptcies  396030 non-null  int64  \n",
      " 21  address               396030 non-null  object \n",
      "dtypes: float64(9), int64(4), object(9)\n",
      "memory usage: 66.5+ MB\n"
     ]
    }
   ],
   "source": [
    "LoanTap.info()"
   ]
  },
  {
   "cell_type": "code",
   "execution_count": 69,
   "id": "db0e2ac8",
   "metadata": {
    "scrolled": true
   },
   "outputs": [
    {
     "data": {
      "text/plain": [
       "purpose             loan_status  loan_status\n",
       "car                 Charged Off  Charged Off    0.001598\n",
       "                    Fully Paid   Fully Paid     0.010262\n",
       "credit_card         Charged Off  Charged Off    0.035033\n",
       "                    Fully Paid   Fully Paid     0.174595\n",
       "debt_consolidation  Charged Off  Charged Off    0.122819\n",
       "                    Fully Paid   Fully Paid     0.469326\n",
       "educational         Charged Off  Charged Off    0.000106\n",
       "                    Fully Paid   Fully Paid     0.000543\n",
       "home_improvement    Charged Off  Charged Off    0.010320\n",
       "                    Fully Paid   Fully Paid     0.050357\n",
       "house               Charged Off  Charged Off    0.001096\n",
       "                    Fully Paid   Fully Paid     0.004462\n",
       "major_purchase      Charged Off  Charged Off    0.003656\n",
       "                    Fully Paid   Fully Paid     0.018539\n",
       "medical             Charged Off  Charged Off    0.002300\n",
       "                    Fully Paid   Fully Paid     0.008295\n",
       "moving              Charged Off  Charged Off    0.001692\n",
       "                    Fully Paid   Fully Paid     0.005515\n",
       "other               Charged Off  Charged Off    0.011350\n",
       "                    Fully Paid   Fully Paid     0.042143\n",
       "renewable_energy    Charged Off  Charged Off    0.000194\n",
       "                    Fully Paid   Fully Paid     0.000636\n",
       "small_business      Charged Off  Charged Off    0.004240\n",
       "                    Fully Paid   Fully Paid     0.010156\n",
       "vacation            Charged Off  Charged Off    0.001172\n",
       "                    Fully Paid   Fully Paid     0.005020\n",
       "wedding             Charged Off  Charged Off    0.000553\n",
       "                    Fully Paid   Fully Paid     0.004022\n",
       "Name: loan_status, dtype: float64"
      ]
     },
     "execution_count": 69,
     "metadata": {},
     "output_type": "execute_result"
    }
   ],
   "source": [
    "LoanTap.groupby([\"purpose\",\"loan_status\"])[\"loan_status\"].value_counts()/LoanTap.shape[0]"
   ]
  },
  {
   "cell_type": "code",
   "execution_count": 70,
   "id": "9032a9c8",
   "metadata": {},
   "outputs": [
    {
     "data": {
      "text/html": [
       "<div>\n",
       "<style scoped>\n",
       "    .dataframe tbody tr th:only-of-type {\n",
       "        vertical-align: middle;\n",
       "    }\n",
       "\n",
       "    .dataframe tbody tr th {\n",
       "        vertical-align: top;\n",
       "    }\n",
       "\n",
       "    .dataframe thead th {\n",
       "        text-align: right;\n",
       "    }\n",
       "</style>\n",
       "<table border=\"1\" class=\"dataframe\">\n",
       "  <thead>\n",
       "    <tr style=\"text-align: right;\">\n",
       "      <th>loan_status</th>\n",
       "      <th>Charged Off</th>\n",
       "      <th>Fully Paid</th>\n",
       "      <th>All</th>\n",
       "    </tr>\n",
       "    <tr>\n",
       "      <th>purpose</th>\n",
       "      <th></th>\n",
       "      <th></th>\n",
       "      <th></th>\n",
       "    </tr>\n",
       "  </thead>\n",
       "  <tbody>\n",
       "    <tr>\n",
       "      <th>car</th>\n",
       "      <td>633</td>\n",
       "      <td>4064</td>\n",
       "      <td>4697</td>\n",
       "    </tr>\n",
       "    <tr>\n",
       "      <th>credit_card</th>\n",
       "      <td>13874</td>\n",
       "      <td>69145</td>\n",
       "      <td>83019</td>\n",
       "    </tr>\n",
       "    <tr>\n",
       "      <th>debt_consolidation</th>\n",
       "      <td>48640</td>\n",
       "      <td>185867</td>\n",
       "      <td>234507</td>\n",
       "    </tr>\n",
       "    <tr>\n",
       "      <th>educational</th>\n",
       "      <td>42</td>\n",
       "      <td>215</td>\n",
       "      <td>257</td>\n",
       "    </tr>\n",
       "    <tr>\n",
       "      <th>home_improvement</th>\n",
       "      <td>4087</td>\n",
       "      <td>19943</td>\n",
       "      <td>24030</td>\n",
       "    </tr>\n",
       "    <tr>\n",
       "      <th>house</th>\n",
       "      <td>434</td>\n",
       "      <td>1767</td>\n",
       "      <td>2201</td>\n",
       "    </tr>\n",
       "    <tr>\n",
       "      <th>major_purchase</th>\n",
       "      <td>1448</td>\n",
       "      <td>7342</td>\n",
       "      <td>8790</td>\n",
       "    </tr>\n",
       "    <tr>\n",
       "      <th>medical</th>\n",
       "      <td>911</td>\n",
       "      <td>3285</td>\n",
       "      <td>4196</td>\n",
       "    </tr>\n",
       "    <tr>\n",
       "      <th>moving</th>\n",
       "      <td>670</td>\n",
       "      <td>2184</td>\n",
       "      <td>2854</td>\n",
       "    </tr>\n",
       "    <tr>\n",
       "      <th>other</th>\n",
       "      <td>4495</td>\n",
       "      <td>16690</td>\n",
       "      <td>21185</td>\n",
       "    </tr>\n",
       "    <tr>\n",
       "      <th>renewable_energy</th>\n",
       "      <td>77</td>\n",
       "      <td>252</td>\n",
       "      <td>329</td>\n",
       "    </tr>\n",
       "    <tr>\n",
       "      <th>small_business</th>\n",
       "      <td>1679</td>\n",
       "      <td>4022</td>\n",
       "      <td>5701</td>\n",
       "    </tr>\n",
       "    <tr>\n",
       "      <th>vacation</th>\n",
       "      <td>464</td>\n",
       "      <td>1988</td>\n",
       "      <td>2452</td>\n",
       "    </tr>\n",
       "    <tr>\n",
       "      <th>wedding</th>\n",
       "      <td>219</td>\n",
       "      <td>1593</td>\n",
       "      <td>1812</td>\n",
       "    </tr>\n",
       "    <tr>\n",
       "      <th>All</th>\n",
       "      <td>77673</td>\n",
       "      <td>318357</td>\n",
       "      <td>396030</td>\n",
       "    </tr>\n",
       "  </tbody>\n",
       "</table>\n",
       "</div>"
      ],
      "text/plain": [
       "loan_status         Charged Off  Fully Paid     All\n",
       "purpose                                            \n",
       "car                         633        4064    4697\n",
       "credit_card               13874       69145   83019\n",
       "debt_consolidation        48640      185867  234507\n",
       "educational                  42         215     257\n",
       "home_improvement           4087       19943   24030\n",
       "house                       434        1767    2201\n",
       "major_purchase             1448        7342    8790\n",
       "medical                     911        3285    4196\n",
       "moving                      670        2184    2854\n",
       "other                      4495       16690   21185\n",
       "renewable_energy             77         252     329\n",
       "small_business             1679        4022    5701\n",
       "vacation                    464        1988    2452\n",
       "wedding                     219        1593    1812\n",
       "All                       77673      318357  396030"
      ]
     },
     "execution_count": 70,
     "metadata": {},
     "output_type": "execute_result"
    }
   ],
   "source": [
    "pd.crosstab(LoanTap[\"purpose\"],LoanTap[\"loan_status\"],margins=True)"
   ]
  },
  {
   "cell_type": "code",
   "execution_count": 71,
   "id": "1c61c62e",
   "metadata": {},
   "outputs": [],
   "source": [
    "from scipy.stats import chi2_contingency\n"
   ]
  },
  {
   "cell_type": "code",
   "execution_count": 72,
   "id": "60fa59ea",
   "metadata": {},
   "outputs": [
    {
     "data": {
      "text/plain": [
       "array(['Fully Paid', 'Charged Off'], dtype=object)"
      ]
     },
     "execution_count": 72,
     "metadata": {},
     "output_type": "execute_result"
    }
   ],
   "source": [
    "LoanTap[\"loan_status\"].unique()"
   ]
  },
  {
   "cell_type": "code",
   "execution_count": 73,
   "id": "37d6c9f5",
   "metadata": {},
   "outputs": [],
   "source": [
    "LoanTap[\"loan_status\"]= LoanTap[\"loan_status\"].map({\"Fully Paid\" : 0, \"Charged Off\" : 1})"
   ]
  },
  {
   "cell_type": "code",
   "execution_count": 74,
   "id": "58184f2e",
   "metadata": {},
   "outputs": [
    {
     "data": {
      "text/html": [
       "<div>\n",
       "<style scoped>\n",
       "    .dataframe tbody tr th:only-of-type {\n",
       "        vertical-align: middle;\n",
       "    }\n",
       "\n",
       "    .dataframe tbody tr th {\n",
       "        vertical-align: top;\n",
       "    }\n",
       "\n",
       "    .dataframe thead th {\n",
       "        text-align: right;\n",
       "    }\n",
       "</style>\n",
       "<table border=\"1\" class=\"dataframe\">\n",
       "  <thead>\n",
       "    <tr style=\"text-align: right;\">\n",
       "      <th></th>\n",
       "      <th>loan_amnt</th>\n",
       "      <th>term</th>\n",
       "      <th>int_rate</th>\n",
       "      <th>emp_length</th>\n",
       "      <th>home_ownership</th>\n",
       "      <th>annual_inc</th>\n",
       "      <th>verification_status</th>\n",
       "      <th>issue_d</th>\n",
       "      <th>loan_status</th>\n",
       "      <th>purpose</th>\n",
       "      <th>...</th>\n",
       "      <th>open_acc</th>\n",
       "      <th>pub_rec</th>\n",
       "      <th>revol_bal</th>\n",
       "      <th>revol_util</th>\n",
       "      <th>total_acc</th>\n",
       "      <th>initial_list_status</th>\n",
       "      <th>application_type</th>\n",
       "      <th>mort_acc</th>\n",
       "      <th>pub_rec_bankruptcies</th>\n",
       "      <th>address</th>\n",
       "    </tr>\n",
       "  </thead>\n",
       "  <tbody>\n",
       "    <tr>\n",
       "      <th>0</th>\n",
       "      <td>10000.0</td>\n",
       "      <td>36</td>\n",
       "      <td>11.44</td>\n",
       "      <td>10.0</td>\n",
       "      <td>RENT</td>\n",
       "      <td>117000.0</td>\n",
       "      <td>Not Verified</td>\n",
       "      <td>Jan-2015</td>\n",
       "      <td>0</td>\n",
       "      <td>vacation</td>\n",
       "      <td>...</td>\n",
       "      <td>16.0</td>\n",
       "      <td>0</td>\n",
       "      <td>36369.0</td>\n",
       "      <td>41.8</td>\n",
       "      <td>25.0</td>\n",
       "      <td>w</td>\n",
       "      <td>INDIVIDUAL</td>\n",
       "      <td>0</td>\n",
       "      <td>0</td>\n",
       "      <td>0174 Michelle Gateway\\r\\nMendozaberg, OK 22690</td>\n",
       "    </tr>\n",
       "    <tr>\n",
       "      <th>1</th>\n",
       "      <td>8000.0</td>\n",
       "      <td>36</td>\n",
       "      <td>11.99</td>\n",
       "      <td>4.0</td>\n",
       "      <td>MORTGAGE</td>\n",
       "      <td>65000.0</td>\n",
       "      <td>Not Verified</td>\n",
       "      <td>Jan-2015</td>\n",
       "      <td>0</td>\n",
       "      <td>debt_consolidation</td>\n",
       "      <td>...</td>\n",
       "      <td>17.0</td>\n",
       "      <td>0</td>\n",
       "      <td>20131.0</td>\n",
       "      <td>53.3</td>\n",
       "      <td>27.0</td>\n",
       "      <td>f</td>\n",
       "      <td>INDIVIDUAL</td>\n",
       "      <td>1</td>\n",
       "      <td>0</td>\n",
       "      <td>1076 Carney Fort Apt. 347\\r\\nLoganmouth, SD 05113</td>\n",
       "    </tr>\n",
       "    <tr>\n",
       "      <th>2</th>\n",
       "      <td>15600.0</td>\n",
       "      <td>36</td>\n",
       "      <td>10.49</td>\n",
       "      <td>0.0</td>\n",
       "      <td>RENT</td>\n",
       "      <td>43057.0</td>\n",
       "      <td>Source Verified</td>\n",
       "      <td>Jan-2015</td>\n",
       "      <td>0</td>\n",
       "      <td>credit_card</td>\n",
       "      <td>...</td>\n",
       "      <td>13.0</td>\n",
       "      <td>0</td>\n",
       "      <td>11987.0</td>\n",
       "      <td>92.2</td>\n",
       "      <td>26.0</td>\n",
       "      <td>f</td>\n",
       "      <td>INDIVIDUAL</td>\n",
       "      <td>0</td>\n",
       "      <td>0</td>\n",
       "      <td>87025 Mark Dale Apt. 269\\r\\nNew Sabrina, WV 05113</td>\n",
       "    </tr>\n",
       "    <tr>\n",
       "      <th>3</th>\n",
       "      <td>7200.0</td>\n",
       "      <td>36</td>\n",
       "      <td>6.49</td>\n",
       "      <td>6.0</td>\n",
       "      <td>RENT</td>\n",
       "      <td>54000.0</td>\n",
       "      <td>Not Verified</td>\n",
       "      <td>Nov-2014</td>\n",
       "      <td>0</td>\n",
       "      <td>credit_card</td>\n",
       "      <td>...</td>\n",
       "      <td>6.0</td>\n",
       "      <td>0</td>\n",
       "      <td>5472.0</td>\n",
       "      <td>21.5</td>\n",
       "      <td>13.0</td>\n",
       "      <td>f</td>\n",
       "      <td>INDIVIDUAL</td>\n",
       "      <td>0</td>\n",
       "      <td>0</td>\n",
       "      <td>823 Reid Ford\\r\\nDelacruzside, MA 00813</td>\n",
       "    </tr>\n",
       "    <tr>\n",
       "      <th>4</th>\n",
       "      <td>24375.0</td>\n",
       "      <td>60</td>\n",
       "      <td>17.27</td>\n",
       "      <td>9.0</td>\n",
       "      <td>MORTGAGE</td>\n",
       "      <td>55000.0</td>\n",
       "      <td>Verified</td>\n",
       "      <td>Apr-2013</td>\n",
       "      <td>1</td>\n",
       "      <td>credit_card</td>\n",
       "      <td>...</td>\n",
       "      <td>13.0</td>\n",
       "      <td>0</td>\n",
       "      <td>24584.0</td>\n",
       "      <td>69.8</td>\n",
       "      <td>43.0</td>\n",
       "      <td>f</td>\n",
       "      <td>INDIVIDUAL</td>\n",
       "      <td>0</td>\n",
       "      <td>0</td>\n",
       "      <td>679 Luna Roads\\r\\nGreggshire, VA 11650</td>\n",
       "    </tr>\n",
       "  </tbody>\n",
       "</table>\n",
       "<p>5 rows × 22 columns</p>\n",
       "</div>"
      ],
      "text/plain": [
       "   loan_amnt  term  int_rate  emp_length home_ownership  annual_inc  \\\n",
       "0    10000.0    36     11.44        10.0           RENT    117000.0   \n",
       "1     8000.0    36     11.99         4.0       MORTGAGE     65000.0   \n",
       "2    15600.0    36     10.49         0.0           RENT     43057.0   \n",
       "3     7200.0    36      6.49         6.0           RENT     54000.0   \n",
       "4    24375.0    60     17.27         9.0       MORTGAGE     55000.0   \n",
       "\n",
       "  verification_status   issue_d  loan_status             purpose  ...  \\\n",
       "0        Not Verified  Jan-2015            0            vacation  ...   \n",
       "1        Not Verified  Jan-2015            0  debt_consolidation  ...   \n",
       "2     Source Verified  Jan-2015            0         credit_card  ...   \n",
       "3        Not Verified  Nov-2014            0         credit_card  ...   \n",
       "4            Verified  Apr-2013            1         credit_card  ...   \n",
       "\n",
       "   open_acc pub_rec  revol_bal  revol_util  total_acc  initial_list_status  \\\n",
       "0      16.0       0    36369.0        41.8       25.0                    w   \n",
       "1      17.0       0    20131.0        53.3       27.0                    f   \n",
       "2      13.0       0    11987.0        92.2       26.0                    f   \n",
       "3       6.0       0     5472.0        21.5       13.0                    f   \n",
       "4      13.0       0    24584.0        69.8       43.0                    f   \n",
       "\n",
       "   application_type mort_acc pub_rec_bankruptcies  \\\n",
       "0        INDIVIDUAL        0                    0   \n",
       "1        INDIVIDUAL        1                    0   \n",
       "2        INDIVIDUAL        0                    0   \n",
       "3        INDIVIDUAL        0                    0   \n",
       "4        INDIVIDUAL        0                    0   \n",
       "\n",
       "                                             address  \n",
       "0     0174 Michelle Gateway\\r\\nMendozaberg, OK 22690  \n",
       "1  1076 Carney Fort Apt. 347\\r\\nLoganmouth, SD 05113  \n",
       "2  87025 Mark Dale Apt. 269\\r\\nNew Sabrina, WV 05113  \n",
       "3            823 Reid Ford\\r\\nDelacruzside, MA 00813  \n",
       "4             679 Luna Roads\\r\\nGreggshire, VA 11650  \n",
       "\n",
       "[5 rows x 22 columns]"
      ]
     },
     "execution_count": 74,
     "metadata": {},
     "output_type": "execute_result"
    }
   ],
   "source": [
    "LoanTap.head()"
   ]
  },
  {
   "cell_type": "code",
   "execution_count": 75,
   "id": "0c513401",
   "metadata": {},
   "outputs": [],
   "source": [
    "LoanTap[\"issue_d\"] = pd.to_datetime(LoanTap[\"issue_d\"])\n",
    "LoanTap[\"earliest_cr_line\"] = pd.to_datetime(LoanTap[\"earliest_cr_line\"])\n",
    "LoanTap[\"credit_history_length\"] = LoanTap[\"issue_d\"] - LoanTap[\"earliest_cr_line\"]\n",
    "LoanTap[\"credit_history_length\"] = LoanTap[\"credit_history_length\"].apply(lambda x:str(x).split()[0])\n",
    "LoanTap[\"credit_history_length\"] = LoanTap[\"credit_history_length\"].apply(lambda x:int(x))\n",
    "LoanTap.drop(columns=[\"issue_d\",\"earliest_cr_line\"],inplace=True)"
   ]
  },
  {
   "cell_type": "code",
   "execution_count": 76,
   "id": "2937add1",
   "metadata": {},
   "outputs": [
    {
     "data": {
      "text/html": [
       "<div>\n",
       "<style scoped>\n",
       "    .dataframe tbody tr th:only-of-type {\n",
       "        vertical-align: middle;\n",
       "    }\n",
       "\n",
       "    .dataframe tbody tr th {\n",
       "        vertical-align: top;\n",
       "    }\n",
       "\n",
       "    .dataframe thead th {\n",
       "        text-align: right;\n",
       "    }\n",
       "</style>\n",
       "<table border=\"1\" class=\"dataframe\">\n",
       "  <thead>\n",
       "    <tr style=\"text-align: right;\">\n",
       "      <th></th>\n",
       "      <th>loan_amnt</th>\n",
       "      <th>term</th>\n",
       "      <th>int_rate</th>\n",
       "      <th>emp_length</th>\n",
       "      <th>home_ownership</th>\n",
       "      <th>annual_inc</th>\n",
       "      <th>verification_status</th>\n",
       "      <th>loan_status</th>\n",
       "      <th>purpose</th>\n",
       "      <th>dti</th>\n",
       "      <th>...</th>\n",
       "      <th>pub_rec</th>\n",
       "      <th>revol_bal</th>\n",
       "      <th>revol_util</th>\n",
       "      <th>total_acc</th>\n",
       "      <th>initial_list_status</th>\n",
       "      <th>application_type</th>\n",
       "      <th>mort_acc</th>\n",
       "      <th>pub_rec_bankruptcies</th>\n",
       "      <th>address</th>\n",
       "      <th>credit_history_length</th>\n",
       "    </tr>\n",
       "  </thead>\n",
       "  <tbody>\n",
       "    <tr>\n",
       "      <th>0</th>\n",
       "      <td>10000.0</td>\n",
       "      <td>36</td>\n",
       "      <td>11.44</td>\n",
       "      <td>10.0</td>\n",
       "      <td>RENT</td>\n",
       "      <td>117000.0</td>\n",
       "      <td>Not Verified</td>\n",
       "      <td>0</td>\n",
       "      <td>vacation</td>\n",
       "      <td>26.24</td>\n",
       "      <td>...</td>\n",
       "      <td>0</td>\n",
       "      <td>36369.0</td>\n",
       "      <td>41.8</td>\n",
       "      <td>25.0</td>\n",
       "      <td>w</td>\n",
       "      <td>INDIVIDUAL</td>\n",
       "      <td>0</td>\n",
       "      <td>0</td>\n",
       "      <td>0174 Michelle Gateway\\r\\nMendozaberg, OK 22690</td>\n",
       "      <td>8980</td>\n",
       "    </tr>\n",
       "    <tr>\n",
       "      <th>1</th>\n",
       "      <td>8000.0</td>\n",
       "      <td>36</td>\n",
       "      <td>11.99</td>\n",
       "      <td>4.0</td>\n",
       "      <td>MORTGAGE</td>\n",
       "      <td>65000.0</td>\n",
       "      <td>Not Verified</td>\n",
       "      <td>0</td>\n",
       "      <td>debt_consolidation</td>\n",
       "      <td>22.05</td>\n",
       "      <td>...</td>\n",
       "      <td>0</td>\n",
       "      <td>20131.0</td>\n",
       "      <td>53.3</td>\n",
       "      <td>27.0</td>\n",
       "      <td>f</td>\n",
       "      <td>INDIVIDUAL</td>\n",
       "      <td>1</td>\n",
       "      <td>0</td>\n",
       "      <td>1076 Carney Fort Apt. 347\\r\\nLoganmouth, SD 05113</td>\n",
       "      <td>3836</td>\n",
       "    </tr>\n",
       "    <tr>\n",
       "      <th>2</th>\n",
       "      <td>15600.0</td>\n",
       "      <td>36</td>\n",
       "      <td>10.49</td>\n",
       "      <td>0.0</td>\n",
       "      <td>RENT</td>\n",
       "      <td>43057.0</td>\n",
       "      <td>Source Verified</td>\n",
       "      <td>0</td>\n",
       "      <td>credit_card</td>\n",
       "      <td>12.79</td>\n",
       "      <td>...</td>\n",
       "      <td>0</td>\n",
       "      <td>11987.0</td>\n",
       "      <td>92.2</td>\n",
       "      <td>26.0</td>\n",
       "      <td>f</td>\n",
       "      <td>INDIVIDUAL</td>\n",
       "      <td>0</td>\n",
       "      <td>0</td>\n",
       "      <td>87025 Mark Dale Apt. 269\\r\\nNew Sabrina, WV 05113</td>\n",
       "      <td>2710</td>\n",
       "    </tr>\n",
       "    <tr>\n",
       "      <th>3</th>\n",
       "      <td>7200.0</td>\n",
       "      <td>36</td>\n",
       "      <td>6.49</td>\n",
       "      <td>6.0</td>\n",
       "      <td>RENT</td>\n",
       "      <td>54000.0</td>\n",
       "      <td>Not Verified</td>\n",
       "      <td>0</td>\n",
       "      <td>credit_card</td>\n",
       "      <td>2.60</td>\n",
       "      <td>...</td>\n",
       "      <td>0</td>\n",
       "      <td>5472.0</td>\n",
       "      <td>21.5</td>\n",
       "      <td>13.0</td>\n",
       "      <td>f</td>\n",
       "      <td>INDIVIDUAL</td>\n",
       "      <td>0</td>\n",
       "      <td>0</td>\n",
       "      <td>823 Reid Ford\\r\\nDelacruzside, MA 00813</td>\n",
       "      <td>2983</td>\n",
       "    </tr>\n",
       "    <tr>\n",
       "      <th>4</th>\n",
       "      <td>24375.0</td>\n",
       "      <td>60</td>\n",
       "      <td>17.27</td>\n",
       "      <td>9.0</td>\n",
       "      <td>MORTGAGE</td>\n",
       "      <td>55000.0</td>\n",
       "      <td>Verified</td>\n",
       "      <td>1</td>\n",
       "      <td>credit_card</td>\n",
       "      <td>33.95</td>\n",
       "      <td>...</td>\n",
       "      <td>0</td>\n",
       "      <td>24584.0</td>\n",
       "      <td>69.8</td>\n",
       "      <td>43.0</td>\n",
       "      <td>f</td>\n",
       "      <td>INDIVIDUAL</td>\n",
       "      <td>0</td>\n",
       "      <td>0</td>\n",
       "      <td>679 Luna Roads\\r\\nGreggshire, VA 11650</td>\n",
       "      <td>5145</td>\n",
       "    </tr>\n",
       "  </tbody>\n",
       "</table>\n",
       "<p>5 rows × 21 columns</p>\n",
       "</div>"
      ],
      "text/plain": [
       "   loan_amnt  term  int_rate  emp_length home_ownership  annual_inc  \\\n",
       "0    10000.0    36     11.44        10.0           RENT    117000.0   \n",
       "1     8000.0    36     11.99         4.0       MORTGAGE     65000.0   \n",
       "2    15600.0    36     10.49         0.0           RENT     43057.0   \n",
       "3     7200.0    36      6.49         6.0           RENT     54000.0   \n",
       "4    24375.0    60     17.27         9.0       MORTGAGE     55000.0   \n",
       "\n",
       "  verification_status  loan_status             purpose    dti  ...  pub_rec  \\\n",
       "0        Not Verified            0            vacation  26.24  ...        0   \n",
       "1        Not Verified            0  debt_consolidation  22.05  ...        0   \n",
       "2     Source Verified            0         credit_card  12.79  ...        0   \n",
       "3        Not Verified            0         credit_card   2.60  ...        0   \n",
       "4            Verified            1         credit_card  33.95  ...        0   \n",
       "\n",
       "   revol_bal  revol_util  total_acc  initial_list_status application_type  \\\n",
       "0    36369.0        41.8       25.0                    w       INDIVIDUAL   \n",
       "1    20131.0        53.3       27.0                    f       INDIVIDUAL   \n",
       "2    11987.0        92.2       26.0                    f       INDIVIDUAL   \n",
       "3     5472.0        21.5       13.0                    f       INDIVIDUAL   \n",
       "4    24584.0        69.8       43.0                    f       INDIVIDUAL   \n",
       "\n",
       "  mort_acc  pub_rec_bankruptcies  \\\n",
       "0        0                     0   \n",
       "1        1                     0   \n",
       "2        0                     0   \n",
       "3        0                     0   \n",
       "4        0                     0   \n",
       "\n",
       "                                             address credit_history_length  \n",
       "0     0174 Michelle Gateway\\r\\nMendozaberg, OK 22690                  8980  \n",
       "1  1076 Carney Fort Apt. 347\\r\\nLoganmouth, SD 05113                  3836  \n",
       "2  87025 Mark Dale Apt. 269\\r\\nNew Sabrina, WV 05113                  2710  \n",
       "3            823 Reid Ford\\r\\nDelacruzside, MA 00813                  2983  \n",
       "4             679 Luna Roads\\r\\nGreggshire, VA 11650                  5145  \n",
       "\n",
       "[5 rows x 21 columns]"
      ]
     },
     "execution_count": 76,
     "metadata": {},
     "output_type": "execute_result"
    }
   ],
   "source": [
    "LoanTap.head()"
   ]
  },
  {
   "cell_type": "code",
   "execution_count": 77,
   "id": "2cbf3984",
   "metadata": {},
   "outputs": [
    {
     "name": "stdout",
     "output_type": "stream",
     "text": [
      "<class 'pandas.core.frame.DataFrame'>\n",
      "RangeIndex: 396030 entries, 0 to 396029\n",
      "Data columns (total 21 columns):\n",
      " #   Column                 Non-Null Count   Dtype  \n",
      "---  ------                 --------------   -----  \n",
      " 0   loan_amnt              396030 non-null  float64\n",
      " 1   term                   396030 non-null  int64  \n",
      " 2   int_rate               396030 non-null  float64\n",
      " 3   emp_length             377729 non-null  float64\n",
      " 4   home_ownership         396030 non-null  object \n",
      " 5   annual_inc             396030 non-null  float64\n",
      " 6   verification_status    396030 non-null  object \n",
      " 7   loan_status            396030 non-null  int64  \n",
      " 8   purpose                396030 non-null  object \n",
      " 9   dti                    396030 non-null  float64\n",
      " 10  open_acc               396030 non-null  float64\n",
      " 11  pub_rec                396030 non-null  int64  \n",
      " 12  revol_bal              396030 non-null  float64\n",
      " 13  revol_util             395754 non-null  float64\n",
      " 14  total_acc              396030 non-null  float64\n",
      " 15  initial_list_status    396030 non-null  object \n",
      " 16  application_type       396030 non-null  object \n",
      " 17  mort_acc               396030 non-null  int64  \n",
      " 18  pub_rec_bankruptcies   396030 non-null  int64  \n",
      " 19  address                396030 non-null  object \n",
      " 20  credit_history_length  396030 non-null  int64  \n",
      "dtypes: float64(9), int64(6), object(6)\n",
      "memory usage: 63.5+ MB\n"
     ]
    }
   ],
   "source": [
    "LoanTap.info()"
   ]
  },
  {
   "cell_type": "code",
   "execution_count": 78,
   "id": "faa0f4ae",
   "metadata": {},
   "outputs": [
    {
     "data": {
      "text/plain": [
       "<AxesSubplot:>"
      ]
     },
     "execution_count": 78,
     "metadata": {},
     "output_type": "execute_result"
    },
    {
     "data": {
      "image/png": "[encoded data removed]",
      "text/plain": [
       "<Figure size 864x432 with 2 Axes>"
      ]
     },
     "metadata": {
      "needs_background": "light"
     },
     "output_type": "display_data"
    }
   ],
   "source": [
    "plt.figure(figsize=(12,6))\n",
    "sns.heatmap(LoanTap.corr(),annot=True,cmap=\"coolwarm\")"
   ]
  },
  {
   "cell_type": "code",
   "execution_count": 79,
   "id": "a34112ad",
   "metadata": {},
   "outputs": [
    {
     "data": {
      "text/plain": [
       "loan_amnt                    0\n",
       "term                         0\n",
       "int_rate                     0\n",
       "emp_length               18301\n",
       "home_ownership               0\n",
       "annual_inc                   0\n",
       "verification_status          0\n",
       "loan_status                  0\n",
       "purpose                      0\n",
       "dti                          0\n",
       "open_acc                     0\n",
       "pub_rec                      0\n",
       "revol_bal                    0\n",
       "revol_util                 276\n",
       "total_acc                    0\n",
       "initial_list_status          0\n",
       "application_type             0\n",
       "mort_acc                     0\n",
       "pub_rec_bankruptcies         0\n",
       "address                      0\n",
       "credit_history_length        0\n",
       "dtype: int64"
      ]
     },
     "execution_count": 79,
     "metadata": {},
     "output_type": "execute_result"
    }
   ],
   "source": [
    "LoanTap.isna().sum()"
   ]
  },
  {
   "cell_type": "code",
   "execution_count": 80,
   "id": "2e80bee8",
   "metadata": {},
   "outputs": [],
   "source": [
    "LoanTap.dropna(inplace=True)"
   ]
  },
  {
   "cell_type": "code",
   "execution_count": 81,
   "id": "fcbaa9d0",
   "metadata": {},
   "outputs": [
    {
     "data": {
      "text/plain": [
       "loan_amnt                0\n",
       "term                     0\n",
       "int_rate                 0\n",
       "emp_length               0\n",
       "home_ownership           0\n",
       "annual_inc               0\n",
       "verification_status      0\n",
       "loan_status              0\n",
       "purpose                  0\n",
       "dti                      0\n",
       "open_acc                 0\n",
       "pub_rec                  0\n",
       "revol_bal                0\n",
       "revol_util               0\n",
       "total_acc                0\n",
       "initial_list_status      0\n",
       "application_type         0\n",
       "mort_acc                 0\n",
       "pub_rec_bankruptcies     0\n",
       "address                  0\n",
       "credit_history_length    0\n",
       "dtype: int64"
      ]
     },
     "execution_count": 81,
     "metadata": {},
     "output_type": "execute_result"
    }
   ],
   "source": [
    "LoanTap.isna().sum()"
   ]
  },
  {
   "cell_type": "code",
   "execution_count": 82,
   "id": "ff6b07fc",
   "metadata": {},
   "outputs": [
    {
     "data": {
      "text/plain": [
       "<AxesSubplot:>"
      ]
     },
     "execution_count": 82,
     "metadata": {},
     "output_type": "execute_result"
    },
    {
     "data": {
      "image/png": "[encoded data removed]",
      "text/plain": [
       "<Figure size 864x432 with 2 Axes>"
      ]
     },
     "metadata": {
      "needs_background": "light"
     },
     "output_type": "display_data"
    }
   ],
   "source": [
    "plt.figure(figsize=(12,6))\n",
    "sns.heatmap(LoanTap.corr(),annot=True,cmap=\"coolwarm\")"
   ]
  },
  {
   "cell_type": "code",
   "execution_count": 83,
   "id": "24a6c69c",
   "metadata": {},
   "outputs": [],
   "source": [
    "from sklearn.preprocessing import StandardScaler"
   ]
  },
  {
   "cell_type": "code",
   "execution_count": 84,
   "id": "c1be2dee",
   "metadata": {},
   "outputs": [
    {
     "data": {
      "text/plain": [
       "array(['vacation', 'debt_consolidation', 'credit_card',\n",
       "       'home_improvement', 'small_business', 'major_purchase', 'other',\n",
       "       'medical', 'wedding', 'car', 'moving', 'house', 'educational',\n",
       "       'renewable_energy'], dtype=object)"
      ]
     },
     "execution_count": 84,
     "metadata": {},
     "output_type": "execute_result"
    }
   ],
   "source": [
    "LoanTap[\"purpose\"].unique()"
   ]
  },
  {
   "cell_type": "code",
   "execution_count": 85,
   "id": "f876f4ba",
   "metadata": {},
   "outputs": [],
   "source": [
    "LoanTap[\"address\"] = LoanTap[\"address\"].apply(lambda x:x.split()[-1])"
   ]
  },
  {
   "cell_type": "code",
   "execution_count": 86,
   "id": "86ebdefb",
   "metadata": {},
   "outputs": [
    {
     "name": "stdout",
     "output_type": "stream",
     "text": [
      "Requirement already satisfied: category_encoders in c:\\users\\satyam\\anaconda3\\lib\\site-packages (2.6.3)\n",
      "Requirement already satisfied: patsy>=0.5.1 in c:\\users\\satyam\\anaconda3\\lib\\site-packages (from category_encoders) (0.5.2)\n",
      "Requirement already satisfied: scipy>=1.0.0 in c:\\users\\satyam\\anaconda3\\lib\\site-packages (from category_encoders) (1.7.3)\n",
      "Requirement already satisfied: numpy>=1.14.0 in c:\\users\\satyam\\anaconda3\\lib\\site-packages (from category_encoders) (1.21.5)\n",
      "Requirement already satisfied: statsmodels>=0.9.0 in c:\\users\\satyam\\anaconda3\\lib\\site-packages (from category_encoders) (0.13.2)\n",
      "Requirement already satisfied: pandas>=1.0.5 in c:\\users\\satyam\\anaconda3\\lib\\site-packages (from category_encoders) (1.4.2)\n",
      "Requirement already satisfied: scikit-learn>=0.20.0 in c:\\users\\satyam\\anaconda3\\lib\\site-packages (from category_encoders) (1.0.2)\n",
      "Requirement already satisfied: python-dateutil>=2.8.1 in c:\\users\\satyam\\anaconda3\\lib\\site-packages (from pandas>=1.0.5->category_encoders) (2.8.2)\n",
      "Requirement already satisfied: pytz>=2020.1 in c:\\users\\satyam\\anaconda3\\lib\\site-packages (from pandas>=1.0.5->category_encoders) (2021.3)\n",
      "Requirement already satisfied: six in c:\\users\\satyam\\anaconda3\\lib\\site-packages (from patsy>=0.5.1->category_encoders) (1.16.0)\n",
      "Requirement already satisfied: joblib>=0.11 in c:\\users\\satyam\\anaconda3\\lib\\site-packages (from scikit-learn>=0.20.0->category_encoders) (1.3.2)\n",
      "Requirement already satisfied: threadpoolctl>=2.0.0 in c:\\users\\satyam\\anaconda3\\lib\\site-packages (from scikit-learn>=0.20.0->category_encoders) (2.2.0)\n",
      "Requirement already satisfied: packaging>=21.3 in c:\\users\\satyam\\anaconda3\\lib\\site-packages (from statsmodels>=0.9.0->category_encoders) (21.3)\n",
      "Requirement already satisfied: pyparsing!=3.0.5,>=2.0.2 in c:\\users\\satyam\\anaconda3\\lib\\site-packages (from packaging>=21.3->statsmodels>=0.9.0->category_encoders) (3.0.4)\n"
     ]
    }
   ],
   "source": [
    "!pip install category_encoders"
   ]
  },
  {
   "cell_type": "code",
   "execution_count": 87,
   "id": "241768ad",
   "metadata": {},
   "outputs": [
    {
     "data": {
      "text/plain": [
       "array(['RENT', 'MORTGAGE', 'OWN', 'OTHER', 'NONE', 'ANY'], dtype=object)"
      ]
     },
     "execution_count": 87,
     "metadata": {},
     "output_type": "execute_result"
    }
   ],
   "source": [
    "LoanTap[\"home_ownership\"].unique()"
   ]
  },
  {
   "cell_type": "code",
   "execution_count": 88,
   "id": "3b915a5f",
   "metadata": {},
   "outputs": [
    {
     "data": {
      "text/plain": [
       "array(['RENT', 'MORTGAGE', 'OWN', 'OTHER', 'NONE', 'ANY'], dtype=object)"
      ]
     },
     "execution_count": 88,
     "metadata": {},
     "output_type": "execute_result"
    }
   ],
   "source": [
    "LoanTap[\"home_ownership\"].unique()"
   ]
  },
  {
   "cell_type": "code",
   "execution_count": 89,
   "id": "58e13d83",
   "metadata": {},
   "outputs": [],
   "source": [
    "LoanTap[\"home_ownership\"]= LoanTap[\"home_ownership\"].map({\"RENT\" : \"RENT\",\"MORTGAGE\" : \"MORTGAGE\", \"OWN\" : \"OWN\", \"OTHER\" :\"OTHER\",\"NONE\" : \"OTHER\",\"ANY\" : \"OTHER\"})"
   ]
  },
  {
   "cell_type": "code",
   "execution_count": 90,
   "id": "2dd66c75",
   "metadata": {},
   "outputs": [
    {
     "data": {
      "text/plain": [
       "array(['RENT', 'MORTGAGE', 'OWN', 'OTHER'], dtype=object)"
      ]
     },
     "execution_count": 90,
     "metadata": {},
     "output_type": "execute_result"
    }
   ],
   "source": [
    "LoanTap[\"home_ownership\"].unique()"
   ]
  },
  {
   "cell_type": "code",
   "execution_count": 91,
   "id": "bfaa7fac",
   "metadata": {},
   "outputs": [],
   "source": [
    "LoanTap = pd.get_dummies(LoanTap,columns=[\"home_ownership\"],drop_first=True)"
   ]
  },
  {
   "cell_type": "code",
   "execution_count": 92,
   "id": "46ee4fcc",
   "metadata": {},
   "outputs": [
    {
     "data": {
      "text/plain": [
       "array(['Not Verified', 'Source Verified', 'Verified'], dtype=object)"
      ]
     },
     "execution_count": 92,
     "metadata": {},
     "output_type": "execute_result"
    }
   ],
   "source": [
    "LoanTap[\"verification_status\"].unique()"
   ]
  },
  {
   "cell_type": "code",
   "execution_count": 93,
   "id": "dcec39fd",
   "metadata": {},
   "outputs": [],
   "source": [
    "LoanTap[\"verification_status\"] = LoanTap[\"verification_status\"].apply(lambda x:0 if x==\"Not Verified\" else 1)"
   ]
  },
  {
   "cell_type": "code",
   "execution_count": 94,
   "id": "f0176053",
   "metadata": {},
   "outputs": [
    {
     "data": {
      "text/plain": [
       "array([0, 1], dtype=int64)"
      ]
     },
     "execution_count": 94,
     "metadata": {},
     "output_type": "execute_result"
    }
   ],
   "source": [
    "LoanTap[\"verification_status\"].unique()"
   ]
  },
  {
   "cell_type": "code",
   "execution_count": 95,
   "id": "b7a47c16",
   "metadata": {},
   "outputs": [
    {
     "data": {
      "text/plain": [
       "array(['w', 'f'], dtype=object)"
      ]
     },
     "execution_count": 95,
     "metadata": {},
     "output_type": "execute_result"
    }
   ],
   "source": [
    "LoanTap[\"initial_list_status\"].unique()"
   ]
  },
  {
   "cell_type": "code",
   "execution_count": 96,
   "id": "d2df296b",
   "metadata": {},
   "outputs": [],
   "source": [
    "LoanTap[\"initial_list_status\"] = LoanTap[\"initial_list_status\"].map({\"w\" : 0, \"f\" : 1})"
   ]
  },
  {
   "cell_type": "code",
   "execution_count": 97,
   "id": "7e8b1848",
   "metadata": {},
   "outputs": [
    {
     "data": {
      "text/plain": [
       "array([0, 1], dtype=int64)"
      ]
     },
     "execution_count": 97,
     "metadata": {},
     "output_type": "execute_result"
    }
   ],
   "source": [
    "LoanTap[\"initial_list_status\"].unique()"
   ]
  },
  {
   "cell_type": "code",
   "execution_count": 98,
   "id": "9966db70",
   "metadata": {},
   "outputs": [
    {
     "data": {
      "text/plain": [
       "array(['INDIVIDUAL', 'JOINT', 'DIRECT_PAY'], dtype=object)"
      ]
     },
     "execution_count": 98,
     "metadata": {},
     "output_type": "execute_result"
    }
   ],
   "source": [
    "LoanTap[\"application_type\"].unique()"
   ]
  },
  {
   "cell_type": "code",
   "execution_count": 99,
   "id": "677f5ab7",
   "metadata": {},
   "outputs": [],
   "source": [
    "LoanTap = pd.get_dummies(LoanTap,columns=[\"application_type\"],drop_first=True)"
   ]
  },
  {
   "cell_type": "code",
   "execution_count": 100,
   "id": "a79f1950",
   "metadata": {},
   "outputs": [],
   "source": [
    "import category_encoders as ce\n",
    "from sklearn.model_selection import train_test_split"
   ]
  },
  {
   "cell_type": "code",
   "execution_count": 101,
   "id": "f945635e",
   "metadata": {},
   "outputs": [],
   "source": [
    "Y = LoanTap[\"loan_status\"]\n",
    "X= LoanTap.drop(columns=[\"loan_status\"])"
   ]
  },
  {
   "cell_type": "code",
   "execution_count": 102,
   "id": "ff02e133",
   "metadata": {},
   "outputs": [
    {
     "data": {
      "text/plain": [
       "(377464, 23)"
      ]
     },
     "execution_count": 102,
     "metadata": {},
     "output_type": "execute_result"
    }
   ],
   "source": [
    "X.shape"
   ]
  },
  {
   "cell_type": "code",
   "execution_count": 103,
   "id": "13fbc244",
   "metadata": {},
   "outputs": [
    {
     "data": {
      "text/plain": [
       "(377464,)"
      ]
     },
     "execution_count": 103,
     "metadata": {},
     "output_type": "execute_result"
    }
   ],
   "source": [
    "Y.shape"
   ]
  },
  {
   "cell_type": "code",
   "execution_count": 104,
   "id": "29bb0ce2",
   "metadata": {},
   "outputs": [],
   "source": [
    "X_train_val,X_test,Y_train_val,Y_test = train_test_split(X,Y,test_size=0.2,random_state=2)\n",
    "X_train,X_val,Y_train,Y_val = train_test_split(X_train_val,Y_train_val,test_size=0.2,random_state=2)"
   ]
  },
  {
   "cell_type": "code",
   "execution_count": 105,
   "id": "e3efb09d",
   "metadata": {},
   "outputs": [
    {
     "data": {
      "text/plain": [
       "(241576, 23)"
      ]
     },
     "execution_count": 105,
     "metadata": {},
     "output_type": "execute_result"
    }
   ],
   "source": [
    "X_train.shape"
   ]
  },
  {
   "cell_type": "code",
   "execution_count": 106,
   "id": "7ecad43d",
   "metadata": {},
   "outputs": [
    {
     "data": {
      "text/plain": [
       "(241576,)"
      ]
     },
     "execution_count": 106,
     "metadata": {},
     "output_type": "execute_result"
    }
   ],
   "source": [
    "Y_train.shape"
   ]
  },
  {
   "cell_type": "code",
   "execution_count": 107,
   "id": "ef4c41ea",
   "metadata": {},
   "outputs": [
    {
     "data": {
      "text/plain": [
       "(60395, 23)"
      ]
     },
     "execution_count": 107,
     "metadata": {},
     "output_type": "execute_result"
    }
   ],
   "source": [
    "X_val.shape"
   ]
  },
  {
   "cell_type": "code",
   "execution_count": 108,
   "id": "c7372b47",
   "metadata": {},
   "outputs": [
    {
     "data": {
      "text/plain": [
       "(60395,)"
      ]
     },
     "execution_count": 108,
     "metadata": {},
     "output_type": "execute_result"
    }
   ],
   "source": [
    "Y_val.shape"
   ]
  },
  {
   "cell_type": "code",
   "execution_count": 109,
   "id": "c83d5e04",
   "metadata": {},
   "outputs": [
    {
     "data": {
      "text/plain": [
       "(75493, 23)"
      ]
     },
     "execution_count": 109,
     "metadata": {},
     "output_type": "execute_result"
    }
   ],
   "source": [
    "X_test.shape"
   ]
  },
  {
   "cell_type": "code",
   "execution_count": 110,
   "id": "6da8ead5",
   "metadata": {},
   "outputs": [
    {
     "data": {
      "text/plain": [
       "(75493,)"
      ]
     },
     "execution_count": 110,
     "metadata": {},
     "output_type": "execute_result"
    }
   ],
   "source": [
    "Y_test.shape"
   ]
  },
  {
   "cell_type": "code",
   "execution_count": 111,
   "id": "1c6c56b3",
   "metadata": {},
   "outputs": [],
   "source": [
    "ce_target = ce.TargetEncoder(cols=[\"purpose\",\"address\"])\n",
    "X_train = ce_target.fit_transform(X_train,Y_train)\n",
    "X_val = ce_target.transform(X_val)\n",
    "X_test = ce_target.transform(X_test)"
   ]
  },
  {
   "cell_type": "code",
   "execution_count": 112,
   "id": "8bb8fe11",
   "metadata": {},
   "outputs": [
    {
     "data": {
      "text/plain": [
       "0    195110\n",
       "1     46466\n",
       "Name: loan_status, dtype: int64"
      ]
     },
     "execution_count": 112,
     "metadata": {},
     "output_type": "execute_result"
    }
   ],
   "source": [
    "Y_train.value_counts()"
   ]
  },
  {
   "cell_type": "code",
   "execution_count": 113,
   "id": "ac71c738",
   "metadata": {},
   "outputs": [
    {
     "name": "stdout",
     "output_type": "stream",
     "text": [
      "Requirement already satisfied: imblearn in c:\\users\\satyam\\anaconda3\\lib\\site-packages (0.0)\n",
      "Requirement already satisfied: imbalanced-learn in c:\\users\\satyam\\anaconda3\\lib\\site-packages (from imblearn) (0.11.0)\n",
      "Requirement already satisfied: scipy>=1.5.0 in c:\\users\\satyam\\anaconda3\\lib\\site-packages (from imbalanced-learn->imblearn) (1.7.3)\n",
      "Requirement already satisfied: joblib>=1.1.1 in c:\\users\\satyam\\anaconda3\\lib\\site-packages (from imbalanced-learn->imblearn) (1.3.2)\n",
      "Requirement already satisfied: numpy>=1.17.3 in c:\\users\\satyam\\anaconda3\\lib\\site-packages (from imbalanced-learn->imblearn) (1.21.5)\n",
      "Requirement already satisfied: threadpoolctl>=2.0.0 in c:\\users\\satyam\\anaconda3\\lib\\site-packages (from imbalanced-learn->imblearn) (2.2.0)\n",
      "Requirement already satisfied: scikit-learn>=1.0.2 in c:\\users\\satyam\\anaconda3\\lib\\site-packages (from imbalanced-learn->imblearn) (1.0.2)\n"
     ]
    }
   ],
   "source": [
    "!pip install imblearn"
   ]
  },
  {
   "cell_type": "code",
   "execution_count": 114,
   "id": "8bb38f39",
   "metadata": {},
   "outputs": [],
   "source": [
    "from imblearn.over_sampling import SMOTE\n",
    "from sklearn.preprocessing import StandardScaler"
   ]
  },
  {
   "cell_type": "code",
   "execution_count": 115,
   "id": "8ff14e6b",
   "metadata": {},
   "outputs": [],
   "source": [
    "scale = StandardScaler()\n",
    "X_train_sm=pd.DataFrame(scale.fit_transform(X_train),columns=X_train.columns)\n",
    "X_val_sm = pd.DataFrame(scale.transform(X_val),columns=X_val.columns)\n",
    "X_test_sm = pd.DataFrame(scale.transform(X_test),columns=X_test.columns)"
   ]
  },
  {
   "cell_type": "code",
   "execution_count": 116,
   "id": "229e3ea9",
   "metadata": {},
   "outputs": [
    {
     "name": "stdout",
     "output_type": "stream",
     "text": [
      "0    195110\n",
      "1    195110\n",
      "Name: loan_status, dtype: int64\n"
     ]
    }
   ],
   "source": [
    "smt = SMOTE()\n",
    "X_sm,Y_sm = smt.fit_resample(X_train_sm,Y_train)\n",
    "print(Y_sm.value_counts())"
   ]
  },
  {
   "cell_type": "markdown",
   "id": "97ccf44b",
   "metadata": {},
   "source": [
    "# Model Building"
   ]
  },
  {
   "cell_type": "code",
   "execution_count": 117,
   "id": "79711b37",
   "metadata": {},
   "outputs": [],
   "source": [
    "from sklearn.linear_model import LogisticRegression\n",
    "from sklearn.metrics import precision_score,recall_score,confusion_matrix,classification_report,f1_score"
   ]
  },
  {
   "cell_type": "code",
   "execution_count": 118,
   "id": "fce07d79",
   "metadata": {},
   "outputs": [
    {
     "data": {
      "text/plain": [
       "LogisticRegression()"
      ]
     },
     "execution_count": 118,
     "metadata": {},
     "output_type": "execute_result"
    }
   ],
   "source": [
    "lr = LogisticRegression()\n",
    "lr.fit(X_sm,Y_sm)"
   ]
  },
  {
   "cell_type": "code",
   "execution_count": 119,
   "id": "af5c22a8",
   "metadata": {},
   "outputs": [],
   "source": [
    "coef_ar = np.array(lr.coef_).reshape(-1,1)"
   ]
  },
  {
   "cell_type": "code",
   "execution_count": 120,
   "id": "0055c015",
   "metadata": {},
   "outputs": [
    {
     "data": {
      "text/html": [
       "<div>\n",
       "<style scoped>\n",
       "    .dataframe tbody tr th:only-of-type {\n",
       "        vertical-align: middle;\n",
       "    }\n",
       "\n",
       "    .dataframe tbody tr th {\n",
       "        vertical-align: top;\n",
       "    }\n",
       "\n",
       "    .dataframe thead th {\n",
       "        text-align: right;\n",
       "    }\n",
       "</style>\n",
       "<table border=\"1\" class=\"dataframe\">\n",
       "  <thead>\n",
       "    <tr style=\"text-align: right;\">\n",
       "      <th></th>\n",
       "      <th>feature</th>\n",
       "      <th>coef</th>\n",
       "    </tr>\n",
       "  </thead>\n",
       "  <tbody>\n",
       "    <tr>\n",
       "      <th>16</th>\n",
       "      <td>address</td>\n",
       "      <td>10.359420</td>\n",
       "    </tr>\n",
       "    <tr>\n",
       "      <th>2</th>\n",
       "      <td>int_rate</td>\n",
       "      <td>0.479142</td>\n",
       "    </tr>\n",
       "    <tr>\n",
       "      <th>7</th>\n",
       "      <td>dti</td>\n",
       "      <td>0.213384</td>\n",
       "    </tr>\n",
       "    <tr>\n",
       "      <th>1</th>\n",
       "      <td>term</td>\n",
       "      <td>0.197237</td>\n",
       "    </tr>\n",
       "    <tr>\n",
       "      <th>8</th>\n",
       "      <td>open_acc</td>\n",
       "      <td>0.164075</td>\n",
       "    </tr>\n",
       "    <tr>\n",
       "      <th>20</th>\n",
       "      <td>home_ownership_RENT</td>\n",
       "      <td>0.126253</td>\n",
       "    </tr>\n",
       "    <tr>\n",
       "      <th>11</th>\n",
       "      <td>revol_util</td>\n",
       "      <td>0.109548</td>\n",
       "    </tr>\n",
       "    <tr>\n",
       "      <th>0</th>\n",
       "      <td>loan_amnt</td>\n",
       "      <td>0.088155</td>\n",
       "    </tr>\n",
       "    <tr>\n",
       "      <th>6</th>\n",
       "      <td>purpose</td>\n",
       "      <td>0.082685</td>\n",
       "    </tr>\n",
       "    <tr>\n",
       "      <th>5</th>\n",
       "      <td>verification_status</td>\n",
       "      <td>0.058828</td>\n",
       "    </tr>\n",
       "    <tr>\n",
       "      <th>19</th>\n",
       "      <td>home_ownership_OWN</td>\n",
       "      <td>0.044622</td>\n",
       "    </tr>\n",
       "    <tr>\n",
       "      <th>9</th>\n",
       "      <td>pub_rec</td>\n",
       "      <td>0.031352</td>\n",
       "    </tr>\n",
       "    <tr>\n",
       "      <th>21</th>\n",
       "      <td>application_type_INDIVIDUAL</td>\n",
       "      <td>0.024528</td>\n",
       "    </tr>\n",
       "    <tr>\n",
       "      <th>18</th>\n",
       "      <td>home_ownership_OTHER</td>\n",
       "      <td>0.000008</td>\n",
       "    </tr>\n",
       "    <tr>\n",
       "      <th>15</th>\n",
       "      <td>pub_rec_bankruptcies</td>\n",
       "      <td>-0.014381</td>\n",
       "    </tr>\n",
       "    <tr>\n",
       "      <th>3</th>\n",
       "      <td>emp_length</td>\n",
       "      <td>-0.014926</td>\n",
       "    </tr>\n",
       "    <tr>\n",
       "      <th>17</th>\n",
       "      <td>credit_history_length</td>\n",
       "      <td>-0.023115</td>\n",
       "    </tr>\n",
       "    <tr>\n",
       "      <th>14</th>\n",
       "      <td>mort_acc</td>\n",
       "      <td>-0.023768</td>\n",
       "    </tr>\n",
       "    <tr>\n",
       "      <th>13</th>\n",
       "      <td>initial_list_status</td>\n",
       "      <td>-0.028264</td>\n",
       "    </tr>\n",
       "    <tr>\n",
       "      <th>22</th>\n",
       "      <td>application_type_JOINT</td>\n",
       "      <td>-0.048290</td>\n",
       "    </tr>\n",
       "    <tr>\n",
       "      <th>10</th>\n",
       "      <td>revol_bal</td>\n",
       "      <td>-0.092666</td>\n",
       "    </tr>\n",
       "    <tr>\n",
       "      <th>12</th>\n",
       "      <td>total_acc</td>\n",
       "      <td>-0.167129</td>\n",
       "    </tr>\n",
       "    <tr>\n",
       "      <th>4</th>\n",
       "      <td>annual_inc</td>\n",
       "      <td>-0.213948</td>\n",
       "    </tr>\n",
       "  </tbody>\n",
       "</table>\n",
       "</div>"
      ],
      "text/plain": [
       "                        feature       coef\n",
       "16                      address  10.359420\n",
       "2                      int_rate   0.479142\n",
       "7                           dti   0.213384\n",
       "1                          term   0.197237\n",
       "8                      open_acc   0.164075\n",
       "20          home_ownership_RENT   0.126253\n",
       "11                   revol_util   0.109548\n",
       "0                     loan_amnt   0.088155\n",
       "6                       purpose   0.082685\n",
       "5           verification_status   0.058828\n",
       "19           home_ownership_OWN   0.044622\n",
       "9                       pub_rec   0.031352\n",
       "21  application_type_INDIVIDUAL   0.024528\n",
       "18         home_ownership_OTHER   0.000008\n",
       "15         pub_rec_bankruptcies  -0.014381\n",
       "3                    emp_length  -0.014926\n",
       "17        credit_history_length  -0.023115\n",
       "14                     mort_acc  -0.023768\n",
       "13          initial_list_status  -0.028264\n",
       "22       application_type_JOINT  -0.048290\n",
       "10                    revol_bal  -0.092666\n",
       "12                    total_acc  -0.167129\n",
       "4                    annual_inc  -0.213948"
      ]
     },
     "execution_count": 120,
     "metadata": {},
     "output_type": "execute_result"
    }
   ],
   "source": [
    "feature_coef = pd.DataFrame()\n",
    "feature_coef[\"feature\"] = X_train_sm.columns\n",
    "feature_coef[\"coef\"] = coef_ar\n",
    "feature_coef.sort_values(by=\"coef\",ascending=False)"
   ]
  },
  {
   "cell_type": "code",
   "execution_count": 121,
   "id": "0930ef9f",
   "metadata": {},
   "outputs": [],
   "source": [
    "Y_val_pred = lr.predict(X_val_sm)"
   ]
  },
  {
   "cell_type": "code",
   "execution_count": 122,
   "id": "6c24710d",
   "metadata": {},
   "outputs": [
    {
     "data": {
      "text/plain": [
       "0.49166532668703433"
      ]
     },
     "execution_count": 122,
     "metadata": {},
     "output_type": "execute_result"
    }
   ],
   "source": [
    "precision_score(Y_val,Y_val_pred)"
   ]
  },
  {
   "cell_type": "code",
   "execution_count": 123,
   "id": "25b0ca2a",
   "metadata": {},
   "outputs": [
    {
     "data": {
      "text/plain": [
       "0.7953698083759646"
      ]
     },
     "execution_count": 123,
     "metadata": {},
     "output_type": "execute_result"
    }
   ],
   "source": [
    "recall_score(Y_val,Y_val_pred)"
   ]
  },
  {
   "cell_type": "code",
   "execution_count": 124,
   "id": "11691609",
   "metadata": {},
   "outputs": [
    {
     "data": {
      "text/plain": [
       "0.6076846637959589"
      ]
     },
     "execution_count": 124,
     "metadata": {},
     "output_type": "execute_result"
    }
   ],
   "source": [
    "f1_score(Y_val,Y_val_pred)"
   ]
  },
  {
   "cell_type": "code",
   "execution_count": 125,
   "id": "f2ad82cc",
   "metadata": {},
   "outputs": [],
   "source": [
    "Y_train_pred = lr.predict(X_train_sm)"
   ]
  },
  {
   "cell_type": "code",
   "execution_count": 126,
   "id": "9b740d13",
   "metadata": {},
   "outputs": [
    {
     "data": {
      "text/plain": [
       "0.4958245363957882"
      ]
     },
     "execution_count": 126,
     "metadata": {},
     "output_type": "execute_result"
    }
   ],
   "source": [
    "precision_score(Y_train,Y_train_pred)"
   ]
  },
  {
   "cell_type": "code",
   "execution_count": 127,
   "id": "6aa54488",
   "metadata": {},
   "outputs": [
    {
     "data": {
      "text/plain": [
       "0.7935049283346963"
      ]
     },
     "execution_count": 127,
     "metadata": {},
     "output_type": "execute_result"
    }
   ],
   "source": [
    "recall_score(Y_train,Y_train_pred)"
   ]
  },
  {
   "cell_type": "code",
   "execution_count": 128,
   "id": "ea400676",
   "metadata": {},
   "outputs": [
    {
     "data": {
      "text/plain": [
       "0.6103005073285387"
      ]
     },
     "execution_count": 128,
     "metadata": {},
     "output_type": "execute_result"
    }
   ],
   "source": [
    "f1_score(Y_train,Y_train_pred)"
   ]
  },
  {
   "cell_type": "code",
   "execution_count": 129,
   "id": "8c610620",
   "metadata": {},
   "outputs": [],
   "source": [
    "y_val_pred_probabilities=lr.predict_proba(X_val_sm)[:,1]\n",
    "y_pred_custom_threshold = (y_val_pred_probabilities > y_val_pred_probabilities.min()).astype(int)"
   ]
  },
  {
   "cell_type": "code",
   "execution_count": 131,
   "id": "4aedaf80",
   "metadata": {},
   "outputs": [],
   "source": [
    "from sklearn.metrics import precision_recall_curve"
   ]
  },
  {
   "cell_type": "code",
   "execution_count": 132,
   "id": "a10cfbf1",
   "metadata": {},
   "outputs": [
    {
     "data": {
      "image/png": "[encoded data removed]",
      "text/plain": [
       "<Figure size 432x288 with 1 Axes>"
      ]
     },
     "metadata": {
      "needs_background": "light"
     },
     "output_type": "display_data"
    },
    {
     "name": "stdout",
     "output_type": "stream",
     "text": [
      "Best Threshold: 0.6747302017761609\n",
      "F1-score with Best Threshold: 0.6510995451774745\n"
     ]
    }
   ],
   "source": [
    "precision, recall, thresholds = precision_recall_curve(Y_val, y_val_pred_probabilities)\n",
    "\n",
    "# Calculate F1-score for each threshold\n",
    "f1_scores = 2 * (precision * recall) / (precision + recall)\n",
    "\n",
    "# Find the threshold that maximizes F1-score\n",
    "best_threshold_index = np.argmax(f1_scores)\n",
    "best_threshold = thresholds[best_threshold_index]\n",
    "\n",
    "# Plot precision-recall curve with the best threshold\n",
    "plt.plot(recall, precision, label='Precision-Recall Curve')\n",
    "plt.scatter(recall[best_threshold_index], precision[best_threshold_index], c='red', marker='x', label=f'Best Threshold = {best_threshold:.2f}')\n",
    "plt.xlabel('Recall')\n",
    "plt.ylabel('Precision')\n",
    "plt.title('Precision-Recall Curve with Best Threshold')\n",
    "plt.legend()\n",
    "plt.show()\n",
    "\n",
    "print(f'Best Threshold: {best_threshold}')\n",
    "\n",
    "# Use the best threshold to make predictions\n",
    "y_pred_best_threshold = (y_val_pred_probabilities > best_threshold).astype(int)\n",
    "\n",
    "# Evaluate performance with the best threshold\n",
    "f1_best_threshold = f1_score(Y_val, y_pred_best_threshold)\n",
    "print(f'F1-score with Best Threshold: {f1_best_threshold}')\n"
   ]
  },
  {
   "cell_type": "code",
   "execution_count": 133,
   "id": "d5c84c29",
   "metadata": {},
   "outputs": [],
   "source": [
    "Y_train_pred_probabilities = (lr.predict_proba(X_train_sm)[:,1]>0.68).astype(int)\n"
   ]
  },
  {
   "cell_type": "code",
   "execution_count": 134,
   "id": "9f769661",
   "metadata": {},
   "outputs": [
    {
     "name": "stdout",
     "output_type": "stream",
     "text": [
      "0.7190812260735957\n"
     ]
    }
   ],
   "source": [
    "precision_score_train = precision_score(Y_train,Y_train_pred_probabilities)\n",
    "print(precision_score_train)"
   ]
  },
  {
   "cell_type": "code",
   "execution_count": 135,
   "id": "9f944741",
   "metadata": {},
   "outputs": [
    {
     "name": "stdout",
     "output_type": "stream",
     "text": [
      "0.5942409503723153\n"
     ]
    }
   ],
   "source": [
    "recall_score_train = recall_score(Y_train,Y_train_pred_probabilities)\n",
    "print(recall_score_train)"
   ]
  },
  {
   "cell_type": "code",
   "execution_count": 136,
   "id": "e091597e",
   "metadata": {},
   "outputs": [
    {
     "name": "stdout",
     "output_type": "stream",
     "text": [
      "0.6507276262298946\n"
     ]
    }
   ],
   "source": [
    "f1_score_train = f1_score(Y_train,Y_train_pred_probabilities)\n",
    "print(f1_score_train)"
   ]
  },
  {
   "cell_type": "code",
   "execution_count": 137,
   "id": "73a4414c",
   "metadata": {},
   "outputs": [],
   "source": [
    "Y_val_pred_probabilities = (lr.predict_proba(X_val_sm)[:,1]>0.68).astype(int)"
   ]
  },
  {
   "cell_type": "code",
   "execution_count": 138,
   "id": "b78d11b6",
   "metadata": {},
   "outputs": [
    {
     "name": "stdout",
     "output_type": "stream",
     "text": [
      "0.7164007924095506\n"
     ]
    }
   ],
   "source": [
    "precision_score_val  = precision_score(Y_val,Y_val_pred_probabilities)\n",
    "print(precision_score_val)"
   ]
  },
  {
   "cell_type": "code",
   "execution_count": 139,
   "id": "f1ebd356",
   "metadata": {},
   "outputs": [
    {
     "name": "stdout",
     "output_type": "stream",
     "text": [
      "0.5957686638342149\n"
     ]
    }
   ],
   "source": [
    "recall_score_val = recall_score(Y_val,Y_val_pred_probabilities)\n",
    "print(recall_score_val)"
   ]
  },
  {
   "cell_type": "code",
   "execution_count": 140,
   "id": "7fe3ed3b",
   "metadata": {},
   "outputs": [
    {
     "name": "stdout",
     "output_type": "stream",
     "text": [
      "0.6505396705169476\n"
     ]
    }
   ],
   "source": [
    "f1_score_val = f1_score(Y_val,Y_val_pred_probabilities)\n",
    "print(f1_score_val)"
   ]
  },
  {
   "cell_type": "code",
   "execution_count": 141,
   "id": "ef8c5929",
   "metadata": {},
   "outputs": [],
   "source": [
    "Y_test_pred_probabilities = (lr.predict_proba(X_test_sm)[:,1]>0.68).astype(int)"
   ]
  },
  {
   "cell_type": "code",
   "execution_count": 142,
   "id": "5adb1382",
   "metadata": {},
   "outputs": [
    {
     "name": "stdout",
     "output_type": "stream",
     "text": [
      "0.7204310056799198\n"
     ]
    }
   ],
   "source": [
    "precision_score_test = precision_score(Y_test,Y_test_pred_probabilities)\n",
    "print(precision_score_test)"
   ]
  },
  {
   "cell_type": "code",
   "execution_count": 143,
   "id": "70a367e8",
   "metadata": {},
   "outputs": [
    {
     "name": "stdout",
     "output_type": "stream",
     "text": [
      "0.5916855320024696\n"
     ]
    }
   ],
   "source": [
    "recall_score_test =  recall_score(Y_test,Y_test_pred_probabilities)\n",
    "print(recall_score_test)"
   ]
  },
  {
   "cell_type": "code",
   "execution_count": 144,
   "id": "83ff6dab",
   "metadata": {},
   "outputs": [
    {
     "name": "stdout",
     "output_type": "stream",
     "text": [
      "0.6497419865154996\n"
     ]
    }
   ],
   "source": [
    "f1_score_test = f1_score(Y_test,Y_test_pred_probabilities)\n",
    "print(f1_score_test)"
   ]
  },
  {
   "cell_type": "code",
   "execution_count": 145,
   "id": "e5c038b9",
   "metadata": {},
   "outputs": [
    {
     "name": "stdout",
     "output_type": "stream",
     "text": [
      "[[184323  10787]\n",
      " [ 18854  27612]]\n"
     ]
    }
   ],
   "source": [
    "cnf_mat_train=confusion_matrix(Y_train,Y_train_pred_probabilities)\n",
    "print(cnf_mat_train)"
   ]
  },
  {
   "cell_type": "code",
   "execution_count": 146,
   "id": "1a4537c9",
   "metadata": {},
   "outputs": [
    {
     "name": "stdout",
     "output_type": "stream",
     "text": [
      "[[46142  2720]\n",
      " [ 4662  6871]]\n"
     ]
    }
   ],
   "source": [
    "cnf_mat_val=confusion_matrix(Y_val,Y_val_pred_probabilities)\n",
    "print(cnf_mat_val)"
   ]
  },
  {
   "cell_type": "code",
   "execution_count": 147,
   "id": "daeb474d",
   "metadata": {},
   "outputs": [
    {
     "name": "stdout",
     "output_type": "stream",
     "text": [
      "[[57569  3347]\n",
      " [ 5952  8625]]\n"
     ]
    }
   ],
   "source": [
    "cnf_mat_test=confusion_matrix(Y_test,Y_test_pred_probabilities)\n",
    "print(cnf_mat_test)"
   ]
  },
  {
   "cell_type": "code",
   "execution_count": 148,
   "id": "71ee5cc1",
   "metadata": {},
   "outputs": [],
   "source": [
    "from sklearn.metrics import roc_curve,auc,precision_recall_curve"
   ]
  },
  {
   "cell_type": "code",
   "execution_count": 149,
   "id": "8aeff49a",
   "metadata": {},
   "outputs": [
    {
     "data": {
      "image/png": "[encoded data removed]",
      "text/plain": [
       "<Figure size 576x576 with 1 Axes>"
      ]
     },
     "metadata": {
      "needs_background": "light"
     },
     "output_type": "display_data"
    },
    {
     "data": {
      "image/png": "[encoded data removed]",
      "text/plain": [
       "<Figure size 576x576 with 1 Axes>"
      ]
     },
     "metadata": {
      "needs_background": "light"
     },
     "output_type": "display_data"
    },
    {
     "data": {
      "image/png": "[encoded data removed]",
      "text/plain": [
       "<Figure size 576x576 with 1 Axes>"
      ]
     },
     "metadata": {
      "needs_background": "light"
     },
     "output_type": "display_data"
    }
   ],
   "source": [
    "true_pred = [[Y_train,Y_train_pred_probabilities],[Y_val,Y_val_pred_probabilities],[Y_test,Y_test_pred_probabilities]]\n",
    "data = [\"train\",\"val\",\"test\"]\n",
    "for i in range(len(data)):\n",
    "    fpr,tpr,thresolds = roc_curve(true_pred[i][0],true_pred[i][1])\n",
    "    roc_auc = auc(fpr,tpr)\n",
    "    plt.figure(figsize=(8, 8))\n",
    "    plt.plot(fpr, tpr, color='darkorange', lw=2, label=f'ROC curve (AUC = {roc_auc:.2f})')\n",
    "    plt.plot([0, 1], [0, 1], color='navy', lw=2, linestyle='--')\n",
    "    plt.xlabel(f'False Positive Rate (FPR) for {data[i]} ')\n",
    "    plt.ylabel(f'True Positive Rate (TPR) for {data[i]} ')\n",
    "    plt.title('Receiver Operating Characteristic (ROC) Curve')\n",
    "    plt.legend(loc='lower right')\n",
    "    plt.show()"
   ]
  },
  {
   "cell_type": "markdown",
   "id": "b59d651f",
   "metadata": {},
   "source": [
    "# Tradeoff Questions"
   ]
  },
  {
   "cell_type": "markdown",
   "id": "bdc6b6b7",
   "metadata": {},
   "source": [
    "Q1-How can we make sure that our model can detect real defaulters and there are less false positives? This is important as we can lose out on an opportunity to finance more individuals and earn interest on it."
   ]
  },
  {
   "cell_type": "markdown",
   "id": "a3c0145d",
   "metadata": {},
   "source": [
    "Ans : Precision Score for model has 0.72 so we can say that our model is able to predict correctly 72 deafaulters out of 100."
   ]
  },
  {
   "cell_type": "markdown",
   "id": "6fa78dfa",
   "metadata": {},
   "source": [
    "Q2 : Since NPA (non-performing asset) is a real problem in this industry, it’s important we play safe and shouldn’t disburse loans to anyone"
   ]
  },
  {
   "cell_type": "markdown",
   "id": "c5f31913",
   "metadata": {},
   "source": [
    "Ans : Yes, it is important for any Loan provider platform that they will give loan to those people who arer going to return their loan as per given time frame so we have to build model which has high precision score(TPR). "
   ]
  },
  {
   "cell_type": "markdown",
   "id": "3a10db88",
   "metadata": {},
   "source": [
    "# Insights "
   ]
  },
  {
   "cell_type": "markdown",
   "id": "6c1ed385",
   "metadata": {},
   "source": [
    "1- 80.38% people have paid their loan.\n",
    "\n",
    "2- Loan Amount and Installment Features are positively correlated so we can drop one of them.\n",
    "\n",
    "3- Majority of people have home ownership as MORTGAGE AND RENT.\n",
    "\n",
    "4- People with grades ‘A’ are more likely to fully pay their loan - True.\n",
    "\n",
    "5- Top 2 affordable Job titles are NSA Industries llc and Recreation Coordinator.\n",
    "\n",
    "6- Bank Prospective Precision should be our primary matrics because our goal is to  Find Deafulters(TP) correctly .\n",
    "\n",
    "7- Address and int_rate are the features that heavily affected the outcome.\n",
    "\n",
    "8-Yes Result will be Affected by Geo Loaction.\n",
    "\n",
    "9- Best Thresold value of Probability is 0.68.\n",
    "\n",
    "10 precision_score for train, val and test is 0.72.\n",
    "\n",
    "11-Recall_score for train,val and test is 0.59.\n",
    "\n",
    "12-F1_score for train,val and test is 0.65.\n",
    "\n",
    "13- Roc_Auc score fortrain , val and test is 0.77\n",
    "\n",
    "14 we can say that our model has moderate bias and Less Variance."
   ]
  },
  {
   "cell_type": "markdown",
   "id": "2e0955c6",
   "metadata": {},
   "source": [
    "# Recomondation"
   ]
  },
  {
   "cell_type": "markdown",
   "id": "dd990da7",
   "metadata": {},
   "source": [
    "1-Further investigate the reasons behind the impact of address and interest rate on the outcome.\n",
    "\n",
    "2-Explore additional features like Monthly Income of Loan Borrower that could enhance the model's predictive power.\n",
    "\n",
    "3-Regularly monitor and update the model as new data becomes available to ensure continued relevance and accuracy."
   ]
  },
  {
   "cell_type": "code",
   "execution_count": null,
   "id": "2a3296e7",
   "metadata": {},
   "outputs": [],
   "source": []
  }
 ],
 "metadata": {
  "kernelspec": {
   "display_name": "Python 3 (ipykernel)",
   "language": "python",
   "name": "python3"
  },
  "language_info": {
   "codemirror_mode": {
    "name": "ipython",
    "version": 3
   },
   "file_extension": ".py",
   "mimetype": "text/x-python",
   "name": "python",
   "nbconvert_exporter": "python",
   "pygments_lexer": "ipython3",
   "version": "3.9.12"
  }
 },
 "nbformat": 4,
 "nbformat_minor": 5
}
